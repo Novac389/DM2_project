{
 "cells": [
  {
   "cell_type": "code",
   "execution_count": 1,
   "id": "bcdb4d95",
   "metadata": {
    "tags": []
   },
   "outputs": [
    {
     "data": {
      "text/html": [
       "<div>\n",
       "<style scoped>\n",
       "    .dataframe tbody tr th:only-of-type {\n",
       "        vertical-align: middle;\n",
       "    }\n",
       "\n",
       "    .dataframe tbody tr th {\n",
       "        vertical-align: top;\n",
       "    }\n",
       "\n",
       "    .dataframe thead th {\n",
       "        text-align: right;\n",
       "    }\n",
       "</style>\n",
       "<table border=\"1\" class=\"dataframe\">\n",
       "  <thead>\n",
       "    <tr style=\"text-align: right;\">\n",
       "      <th></th>\n",
       "      <th>vocal_channel</th>\n",
       "      <th>emotion</th>\n",
       "      <th>emotional_intensity</th>\n",
       "      <th>statement</th>\n",
       "      <th>repetition</th>\n",
       "      <th>actor</th>\n",
       "      <th>sex</th>\n",
       "      <th>sum</th>\n",
       "      <th>max</th>\n",
       "      <th>q25</th>\n",
       "      <th>...</th>\n",
       "      <th>stft_sum_w4</th>\n",
       "      <th>stft_std_w4</th>\n",
       "      <th>stft_q01_w4</th>\n",
       "      <th>stft_q05_w4</th>\n",
       "      <th>stft_q25_w4</th>\n",
       "      <th>stft_q50_w4</th>\n",
       "      <th>stft_q75_w4</th>\n",
       "      <th>stft_q95_w4</th>\n",
       "      <th>stft_kur_w4</th>\n",
       "      <th>stft_skew_w4</th>\n",
       "    </tr>\n",
       "  </thead>\n",
       "  <tbody>\n",
       "    <tr>\n",
       "      <th>0</th>\n",
       "      <td>0</td>\n",
       "      <td>1</td>\n",
       "      <td>0</td>\n",
       "      <td>1</td>\n",
       "      <td>1</td>\n",
       "      <td>1</td>\n",
       "      <td>0</td>\n",
       "      <td>0.328567</td>\n",
       "      <td>-0.391762</td>\n",
       "      <td>0.342857</td>\n",
       "      <td>...</td>\n",
       "      <td>0.135483</td>\n",
       "      <td>-1.096766</td>\n",
       "      <td>-0.402429</td>\n",
       "      <td>1.421380</td>\n",
       "      <td>0.948188</td>\n",
       "      <td>0.831973</td>\n",
       "      <td>0.536448</td>\n",
       "      <td>0.0</td>\n",
       "      <td>10.826275</td>\n",
       "      <td>-2.710136</td>\n",
       "    </tr>\n",
       "    <tr>\n",
       "      <th>1</th>\n",
       "      <td>0</td>\n",
       "      <td>1</td>\n",
       "      <td>0</td>\n",
       "      <td>1</td>\n",
       "      <td>2</td>\n",
       "      <td>1</td>\n",
       "      <td>0</td>\n",
       "      <td>0.272964</td>\n",
       "      <td>-0.346159</td>\n",
       "      <td>0.342857</td>\n",
       "      <td>...</td>\n",
       "      <td>-0.196060</td>\n",
       "      <td>-1.013205</td>\n",
       "      <td>1.702463</td>\n",
       "      <td>1.092210</td>\n",
       "      <td>0.597843</td>\n",
       "      <td>0.441189</td>\n",
       "      <td>0.253557</td>\n",
       "      <td>0.0</td>\n",
       "      <td>0.064887</td>\n",
       "      <td>0.425032</td>\n",
       "    </tr>\n",
       "    <tr>\n",
       "      <th>2</th>\n",
       "      <td>0</td>\n",
       "      <td>1</td>\n",
       "      <td>0</td>\n",
       "      <td>0</td>\n",
       "      <td>1</td>\n",
       "      <td>1</td>\n",
       "      <td>0</td>\n",
       "      <td>0.337392</td>\n",
       "      <td>-0.284007</td>\n",
       "      <td>0.371429</td>\n",
       "      <td>...</td>\n",
       "      <td>-0.307833</td>\n",
       "      <td>-0.716367</td>\n",
       "      <td>-0.402429</td>\n",
       "      <td>0.899688</td>\n",
       "      <td>0.680414</td>\n",
       "      <td>0.652634</td>\n",
       "      <td>0.569396</td>\n",
       "      <td>0.0</td>\n",
       "      <td>3.519767</td>\n",
       "      <td>-1.290314</td>\n",
       "    </tr>\n",
       "    <tr>\n",
       "      <th>3</th>\n",
       "      <td>0</td>\n",
       "      <td>1</td>\n",
       "      <td>0</td>\n",
       "      <td>0</td>\n",
       "      <td>2</td>\n",
       "      <td>1</td>\n",
       "      <td>0</td>\n",
       "      <td>0.318693</td>\n",
       "      <td>-0.258631</td>\n",
       "      <td>0.342857</td>\n",
       "      <td>...</td>\n",
       "      <td>-0.607848</td>\n",
       "      <td>-0.803778</td>\n",
       "      <td>1.346476</td>\n",
       "      <td>0.835496</td>\n",
       "      <td>0.532143</td>\n",
       "      <td>0.515441</td>\n",
       "      <td>0.405521</td>\n",
       "      <td>0.0</td>\n",
       "      <td>0.218601</td>\n",
       "      <td>-0.015380</td>\n",
       "    </tr>\n",
       "    <tr>\n",
       "      <th>4</th>\n",
       "      <td>0</td>\n",
       "      <td>2</td>\n",
       "      <td>0</td>\n",
       "      <td>1</td>\n",
       "      <td>1</td>\n",
       "      <td>1</td>\n",
       "      <td>0</td>\n",
       "      <td>0.315162</td>\n",
       "      <td>-0.478371</td>\n",
       "      <td>0.342857</td>\n",
       "      <td>...</td>\n",
       "      <td>0.145139</td>\n",
       "      <td>-0.863050</td>\n",
       "      <td>1.018057</td>\n",
       "      <td>0.935801</td>\n",
       "      <td>0.644804</td>\n",
       "      <td>0.549313</td>\n",
       "      <td>0.296205</td>\n",
       "      <td>0.0</td>\n",
       "      <td>1.260594</td>\n",
       "      <td>-0.448574</td>\n",
       "    </tr>\n",
       "    <tr>\n",
       "      <th>...</th>\n",
       "      <td>...</td>\n",
       "      <td>...</td>\n",
       "      <td>...</td>\n",
       "      <td>...</td>\n",
       "      <td>...</td>\n",
       "      <td>...</td>\n",
       "      <td>...</td>\n",
       "      <td>...</td>\n",
       "      <td>...</td>\n",
       "      <td>...</td>\n",
       "      <td>...</td>\n",
       "      <td>...</td>\n",
       "      <td>...</td>\n",
       "      <td>...</td>\n",
       "      <td>...</td>\n",
       "      <td>...</td>\n",
       "      <td>...</td>\n",
       "      <td>...</td>\n",
       "      <td>...</td>\n",
       "      <td>...</td>\n",
       "      <td>...</td>\n",
       "    </tr>\n",
       "    <tr>\n",
       "      <th>1823</th>\n",
       "      <td>0</td>\n",
       "      <td>8</td>\n",
       "      <td>0</td>\n",
       "      <td>0</td>\n",
       "      <td>2</td>\n",
       "      <td>18</td>\n",
       "      <td>1</td>\n",
       "      <td>-0.212894</td>\n",
       "      <td>-0.426884</td>\n",
       "      <td>0.371429</td>\n",
       "      <td>...</td>\n",
       "      <td>-0.631100</td>\n",
       "      <td>0.407872</td>\n",
       "      <td>-0.402429</td>\n",
       "      <td>-0.568068</td>\n",
       "      <td>0.272635</td>\n",
       "      <td>0.320467</td>\n",
       "      <td>0.493310</td>\n",
       "      <td>0.0</td>\n",
       "      <td>1.457767</td>\n",
       "      <td>-1.346654</td>\n",
       "    </tr>\n",
       "    <tr>\n",
       "      <th>1824</th>\n",
       "      <td>0</td>\n",
       "      <td>8</td>\n",
       "      <td>1</td>\n",
       "      <td>1</td>\n",
       "      <td>1</td>\n",
       "      <td>18</td>\n",
       "      <td>1</td>\n",
       "      <td>-0.186141</td>\n",
       "      <td>-0.196663</td>\n",
       "      <td>0.342857</td>\n",
       "      <td>...</td>\n",
       "      <td>-0.887878</td>\n",
       "      <td>0.718169</td>\n",
       "      <td>-0.402429</td>\n",
       "      <td>-0.568068</td>\n",
       "      <td>-0.402428</td>\n",
       "      <td>0.139088</td>\n",
       "      <td>0.581452</td>\n",
       "      <td>0.0</td>\n",
       "      <td>-0.162612</td>\n",
       "      <td>-0.423159</td>\n",
       "    </tr>\n",
       "    <tr>\n",
       "      <th>1825</th>\n",
       "      <td>0</td>\n",
       "      <td>8</td>\n",
       "      <td>1</td>\n",
       "      <td>1</td>\n",
       "      <td>2</td>\n",
       "      <td>18</td>\n",
       "      <td>1</td>\n",
       "      <td>-0.314997</td>\n",
       "      <td>-0.216890</td>\n",
       "      <td>0.371429</td>\n",
       "      <td>...</td>\n",
       "      <td>-0.910208</td>\n",
       "      <td>0.339948</td>\n",
       "      <td>-0.402429</td>\n",
       "      <td>-0.225264</td>\n",
       "      <td>-0.114307</td>\n",
       "      <td>0.022347</td>\n",
       "      <td>0.470287</td>\n",
       "      <td>0.0</td>\n",
       "      <td>0.128201</td>\n",
       "      <td>-0.378094</td>\n",
       "    </tr>\n",
       "    <tr>\n",
       "      <th>1826</th>\n",
       "      <td>0</td>\n",
       "      <td>8</td>\n",
       "      <td>1</td>\n",
       "      <td>0</td>\n",
       "      <td>1</td>\n",
       "      <td>18</td>\n",
       "      <td>1</td>\n",
       "      <td>-0.088892</td>\n",
       "      <td>-0.214683</td>\n",
       "      <td>0.342857</td>\n",
       "      <td>...</td>\n",
       "      <td>-0.445016</td>\n",
       "      <td>0.715166</td>\n",
       "      <td>-0.402429</td>\n",
       "      <td>-0.568068</td>\n",
       "      <td>0.037070</td>\n",
       "      <td>0.207317</td>\n",
       "      <td>0.187007</td>\n",
       "      <td>0.0</td>\n",
       "      <td>0.356091</td>\n",
       "      <td>-0.924174</td>\n",
       "    </tr>\n",
       "    <tr>\n",
       "      <th>1827</th>\n",
       "      <td>0</td>\n",
       "      <td>8</td>\n",
       "      <td>1</td>\n",
       "      <td>0</td>\n",
       "      <td>2</td>\n",
       "      <td>18</td>\n",
       "      <td>1</td>\n",
       "      <td>-0.286699</td>\n",
       "      <td>-0.242265</td>\n",
       "      <td>0.342857</td>\n",
       "      <td>...</td>\n",
       "      <td>-0.818883</td>\n",
       "      <td>0.118607</td>\n",
       "      <td>-0.402429</td>\n",
       "      <td>0.008308</td>\n",
       "      <td>-0.254529</td>\n",
       "      <td>-0.280770</td>\n",
       "      <td>0.019999</td>\n",
       "      <td>0.0</td>\n",
       "      <td>-0.314699</td>\n",
       "      <td>0.268721</td>\n",
       "    </tr>\n",
       "  </tbody>\n",
       "</table>\n",
       "<p>1828 rows × 284 columns</p>\n",
       "</div>"
      ],
      "text/plain": [
       "      vocal_channel  emotion  emotional_intensity  statement  repetition  \\\n",
       "0                 0        1                    0          1           1   \n",
       "1                 0        1                    0          1           2   \n",
       "2                 0        1                    0          0           1   \n",
       "3                 0        1                    0          0           2   \n",
       "4                 0        2                    0          1           1   \n",
       "...             ...      ...                  ...        ...         ...   \n",
       "1823              0        8                    0          0           2   \n",
       "1824              0        8                    1          1           1   \n",
       "1825              0        8                    1          1           2   \n",
       "1826              0        8                    1          0           1   \n",
       "1827              0        8                    1          0           2   \n",
       "\n",
       "      actor  sex       sum       max       q25  ...  stft_sum_w4  stft_std_w4  \\\n",
       "0         1    0  0.328567 -0.391762  0.342857  ...     0.135483    -1.096766   \n",
       "1         1    0  0.272964 -0.346159  0.342857  ...    -0.196060    -1.013205   \n",
       "2         1    0  0.337392 -0.284007  0.371429  ...    -0.307833    -0.716367   \n",
       "3         1    0  0.318693 -0.258631  0.342857  ...    -0.607848    -0.803778   \n",
       "4         1    0  0.315162 -0.478371  0.342857  ...     0.145139    -0.863050   \n",
       "...     ...  ...       ...       ...       ...  ...          ...          ...   \n",
       "1823     18    1 -0.212894 -0.426884  0.371429  ...    -0.631100     0.407872   \n",
       "1824     18    1 -0.186141 -0.196663  0.342857  ...    -0.887878     0.718169   \n",
       "1825     18    1 -0.314997 -0.216890  0.371429  ...    -0.910208     0.339948   \n",
       "1826     18    1 -0.088892 -0.214683  0.342857  ...    -0.445016     0.715166   \n",
       "1827     18    1 -0.286699 -0.242265  0.342857  ...    -0.818883     0.118607   \n",
       "\n",
       "      stft_q01_w4  stft_q05_w4  stft_q25_w4  stft_q50_w4  stft_q75_w4  \\\n",
       "0       -0.402429     1.421380     0.948188     0.831973     0.536448   \n",
       "1        1.702463     1.092210     0.597843     0.441189     0.253557   \n",
       "2       -0.402429     0.899688     0.680414     0.652634     0.569396   \n",
       "3        1.346476     0.835496     0.532143     0.515441     0.405521   \n",
       "4        1.018057     0.935801     0.644804     0.549313     0.296205   \n",
       "...           ...          ...          ...          ...          ...   \n",
       "1823    -0.402429    -0.568068     0.272635     0.320467     0.493310   \n",
       "1824    -0.402429    -0.568068    -0.402428     0.139088     0.581452   \n",
       "1825    -0.402429    -0.225264    -0.114307     0.022347     0.470287   \n",
       "1826    -0.402429    -0.568068     0.037070     0.207317     0.187007   \n",
       "1827    -0.402429     0.008308    -0.254529    -0.280770     0.019999   \n",
       "\n",
       "      stft_q95_w4  stft_kur_w4  stft_skew_w4  \n",
       "0             0.0    10.826275     -2.710136  \n",
       "1             0.0     0.064887      0.425032  \n",
       "2             0.0     3.519767     -1.290314  \n",
       "3             0.0     0.218601     -0.015380  \n",
       "4             0.0     1.260594     -0.448574  \n",
       "...           ...          ...           ...  \n",
       "1823          0.0     1.457767     -1.346654  \n",
       "1824          0.0    -0.162612     -0.423159  \n",
       "1825          0.0     0.128201     -0.378094  \n",
       "1826          0.0     0.356091     -0.924174  \n",
       "1827          0.0    -0.314699      0.268721  \n",
       "\n",
       "[1828 rows x 284 columns]"
      ]
     },
     "execution_count": 1,
     "metadata": {},
     "output_type": "execute_result"
    }
   ],
   "source": [
    "import pandas as pd\n",
    "import numpy as np\n",
    "from numpy import nan\n",
    "import matplotlib.pyplot as plt\n",
    "import seaborn as sns\n",
    "\n",
    "#pd.set_option('display.max_columns', None)\n",
    "df=pd.read_csv('Ravdess_TRAIN_transformed.csv')\n",
    "df_test=pd.read_csv('Ravdess_TEST_transformed.csv')\n",
    "df\n",
    "#df scaled, var=0 and high correlated features removed, categorical features mapped"
   ]
  },
  {
   "cell_type": "markdown",
   "id": "1f9b3243",
   "metadata": {},
   "source": [
    "# Unbalancing emotion by considering only surprised emotion"
   ]
  },
  {
   "cell_type": "code",
   "execution_count": 3,
   "id": "bc36db6d",
   "metadata": {},
   "outputs": [],
   "source": [
    "emotion_demapper = {1:\"neutral\", 2:\"calm\", 3:\"happy\", 4:\"sad\", 5:\"angry\", 6:\"fearful\", 7:\"disgust\", 8:\"surprised\"}\n",
    "df[\"emotion\"] = df[\"emotion\"].replace(emotion_demapper)\n",
    "df_test[\"emotion\"] = df_test[\"emotion\"].replace(emotion_demapper)\n",
    "\n",
    "emotion_mapper = {\"neutral\":0, \"calm\":0, \"happy\":0, \"sad\":0, \"angry\":0, \"fearful\":0, \"disgust\":0, \"surprised\":1}\n",
    "df[\"emotion\"] = df[\"emotion\"].replace(emotion_mapper)\n",
    "df_test[\"emotion\"] = df_test[\"emotion\"].replace(emotion_mapper)\n"
   ]
  },
  {
   "cell_type": "markdown",
   "id": "bf6be6e2",
   "metadata": {},
   "source": [
    "# Partitioning"
   ]
  },
  {
   "cell_type": "code",
   "execution_count": 4,
   "id": "e3f589f8",
   "metadata": {},
   "outputs": [],
   "source": [
    "X, y = df.drop([\"emotion\", \"vocal_channel\", \"emotional_intensity\", \"statement\", \"repetition\", \"actor\", \"sex\"], axis=1), df[[\"emotion\"]].values.flatten()\n",
    "X2, y2 = df_test.drop([\"emotion\", \"vocal_channel\", \"emotional_intensity\", \"statement\", \"repetition\", \"actor\", \"sex\"], axis=1), df_test[[\"emotion\"]].values.flatten()"
   ]
  },
  {
   "cell_type": "code",
   "execution_count": 5,
   "id": "dab42e0a",
   "metadata": {},
   "outputs": [],
   "source": [
    "from sklearn.model_selection import train_test_split\n",
    "X_train, X_test, y_train, y_test = train_test_split(X, y, test_size=0.3, random_state=42, stratify=y)\n",
    "#X_train, y_train = X, y\n",
    "#X_test, y_test = X2, y2"
   ]
  },
  {
   "cell_type": "markdown",
   "id": "255d131a",
   "metadata": {},
   "source": [
    "# Imbalancing with KMeansSMOTE / SMOTE / SVMSMOTE"
   ]
  },
  {
   "cell_type": "code",
   "execution_count": 6,
   "id": "257ec43a",
   "metadata": {},
   "outputs": [
    {
     "name": "stdout",
     "output_type": "stream",
     "text": [
      "dataset shape Counter({0: 1178, 1: 101})\n"
     ]
    }
   ],
   "source": [
    "from collections import Counter\n",
    "\n",
    "print('dataset shape %s' % Counter(y_train))"
   ]
  },
  {
   "cell_type": "code",
   "execution_count": 222,
   "id": "63e74359",
   "metadata": {},
   "outputs": [],
   "source": [
    "from imblearn.over_sampling import KMeansSMOTE, SMOTE, SVMSMOTE\n",
    "from imblearn.over_sampling import RandomOverSampler\n",
    "\n",
    "#ksmote = KMeansSMOTE(k_neighbors=8, n_jobs=-1, cluster_balance_threshold=0.1)\n",
    "#smote = SMOTE()\n",
    "svmsmote = SVMSMOTE()\n",
    "#ros = RandomOverSampler()\n",
    "\n",
    "X_resampled, y_resampled = svmsmote.fit_resample(X_train, y_train)\n"
   ]
  },
  {
   "cell_type": "code",
   "execution_count": 223,
   "id": "9bf99331",
   "metadata": {},
   "outputs": [
    {
     "name": "stdout",
     "output_type": "stream",
     "text": [
      "Resampled dataset shape Counter({1: 1178, 0: 1178})\n"
     ]
    }
   ],
   "source": [
    "from collections import Counter\n",
    "\n",
    "print('Resampled dataset shape %s' % Counter(y_resampled))"
   ]
  },
  {
   "cell_type": "markdown",
   "id": "0c59b112",
   "metadata": {},
   "source": [
    "# The effect of resampling on classifier result"
   ]
  },
  {
   "cell_type": "markdown",
   "id": "ff8669ec",
   "metadata": {},
   "source": [
    "# Classifier result on imbalanced data"
   ]
  },
  {
   "cell_type": "code",
   "execution_count": 7,
   "id": "ad9e3078",
   "metadata": {},
   "outputs": [
    {
     "name": "stdout",
     "output_type": "stream",
     "text": [
      "Accuracy 0.9034608378870674\n",
      "F1-score [0.9485936  0.20895522]\n",
      "              precision    recall  f1-score   support\n",
      "\n",
      "           0       0.93      0.97      0.95       506\n",
      "           1       0.29      0.16      0.21        43\n",
      "\n",
      "    accuracy                           0.90       549\n",
      "   macro avg       0.61      0.56      0.58       549\n",
      "weighted avg       0.88      0.90      0.89       549\n",
      "\n"
     ]
    }
   ],
   "source": [
    "from sklearn.tree import DecisionTreeClassifier\n",
    "from sklearn.metrics import accuracy_score, f1_score, classification_report\n",
    "from sklearn.metrics import roc_curve, auc, roc_auc_score\n",
    "\n",
    "clf = DecisionTreeClassifier(min_samples_leaf=10, random_state=42)\n",
    "clf.fit(X_train, y_train)\n",
    "\n",
    "y_pred = clf.predict(X_test)\n",
    "\n",
    "print('Accuracy %s' % accuracy_score(y_test, y_pred))\n",
    "print('F1-score %s' % f1_score(y_test, y_pred, average=None))\n",
    "print(classification_report(y_test, y_pred))"
   ]
  },
  {
   "cell_type": "markdown",
   "id": "38179754",
   "metadata": {},
   "source": [
    "# Classifier result on balanced data"
   ]
  },
  {
   "cell_type": "code",
   "execution_count": 225,
   "id": "ac52b522",
   "metadata": {},
   "outputs": [
    {
     "name": "stdout",
     "output_type": "stream",
     "text": [
      "Accuracy 0.9016393442622951\n",
      "F1-score [0.94621514 0.42553191]\n",
      "              precision    recall  f1-score   support\n",
      "\n",
      "           0       0.95      0.94      0.95       506\n",
      "           1       0.39      0.47      0.43        43\n",
      "\n",
      "    accuracy                           0.90       549\n",
      "   macro avg       0.67      0.70      0.69       549\n",
      "weighted avg       0.91      0.90      0.91       549\n",
      "\n"
     ]
    }
   ],
   "source": [
    "clf = DecisionTreeClassifier(min_samples_leaf=10, random_state=42)\n",
    "clf.fit(X_resampled, y_resampled)\n",
    "\n",
    "y_pred = clf.predict(X_test)\n",
    "\n",
    "print('Accuracy %s' % accuracy_score(y_test, y_pred))\n",
    "print('F1-score %s' % f1_score(y_test, y_pred, average=None))\n",
    "print(classification_report(y_test, y_pred))"
   ]
  },
  {
   "cell_type": "markdown",
   "id": "2eba7d0f",
   "metadata": {},
   "source": [
    "# Imbalancing with ADASYN"
   ]
  },
  {
   "cell_type": "code",
   "execution_count": 8,
   "id": "4d694fc6",
   "metadata": {},
   "outputs": [
    {
     "name": "stdout",
     "output_type": "stream",
     "text": [
      "Resampled dataset shape Counter({0: 1178, 1: 1176})\n"
     ]
    }
   ],
   "source": [
    "from imblearn.over_sampling import ADASYN\n",
    "\n",
    "adasyn = ADASYN(random_state=42, sampling_strategy='minority', n_neighbors=8)\n",
    "X_resampled, y_resampled = adasyn.fit_resample(X_train, y_train)\n",
    "print('Resampled dataset shape %s' % Counter(y_resampled))"
   ]
  },
  {
   "cell_type": "code",
   "execution_count": 9,
   "id": "16e93714",
   "metadata": {},
   "outputs": [
    {
     "name": "stdout",
     "output_type": "stream",
     "text": [
      "Accuracy 0.8888888888888888\n",
      "F1-score [0.93807107 0.46017699]\n",
      "              precision    recall  f1-score   support\n",
      "\n",
      "           0       0.96      0.91      0.94       506\n",
      "           1       0.37      0.60      0.46        43\n",
      "\n",
      "    accuracy                           0.89       549\n",
      "   macro avg       0.67      0.76      0.70       549\n",
      "weighted avg       0.92      0.89      0.90       549\n",
      "\n"
     ]
    }
   ],
   "source": [
    "clf = DecisionTreeClassifier(min_samples_leaf=10, random_state=42)\n",
    "clf.fit(X_resampled, y_resampled)\n",
    "\n",
    "y_pred = clf.predict(X_test)\n",
    "\n",
    "print('Accuracy %s' % accuracy_score(y_test, y_pred))\n",
    "print('F1-score %s' % f1_score(y_test, y_pred, average=None))\n",
    "print(classification_report(y_test, y_pred))"
   ]
  },
  {
   "cell_type": "code",
   "execution_count": 244,
   "id": "638153c0",
   "metadata": {},
   "outputs": [
    {
     "name": "stdout",
     "output_type": "stream",
     "text": [
      "{'n_neighbors': 3, 'random_state': 42, 'sampling_strategy': 'minority'}\n"
     ]
    }
   ],
   "source": [
    "from sklearn.model_selection import GridSearchCV\n",
    "\n",
    "\n",
    "param_grid = {\n",
    "    'sampling_strategy': ['minority', 'not minority', 'auto'],\n",
    "    'n_neighbors': [3, 4, 5, 6, 7, 8, 9, 10, 11, 12, 13, 14, 15, 50],\n",
    "    'random_state': [42]\n",
    "}\n",
    "\n",
    "adasyn = ADASYN()\n",
    "\n",
    "grid_search = GridSearchCV(estimator=adasyn, param_grid=param_grid, scoring='recall')\n",
    "\n",
    "grid_search.fit(X_train, y_train)\n",
    "\n",
    "\n",
    "import warnings\n",
    "warnings.filterwarnings('ignore')\n",
    "\n",
    "print(grid_search.best_params_)"
   ]
  },
  {
   "cell_type": "markdown",
   "id": "e445f687",
   "metadata": {},
   "source": [
    "### Adasyn return the best result... Applying the dimensionality reduction and check the improvement on decisonTree classifier results"
   ]
  },
  {
   "cell_type": "code",
   "execution_count": null,
   "id": "bb0004bd",
   "metadata": {},
   "outputs": [],
   "source": [
    "#KNN without dimensionality reduction\n"
   ]
  },
  {
   "cell_type": "markdown",
   "id": "ffa4430e",
   "metadata": {},
   "source": [
    "### UMAP"
   ]
  },
  {
   "cell_type": "code",
   "execution_count": 12,
   "id": "36d61f1c",
   "metadata": {},
   "outputs": [
    {
     "name": "stdout",
     "output_type": "stream",
     "text": [
      "Accuracy 0.6320582877959927\n",
      "F1-score [0.75305623 0.27857143]\n",
      "              precision    recall  f1-score   support\n",
      "\n",
      "           0      0.987     0.609     0.753       506\n",
      "           1      0.165     0.907     0.279        43\n",
      "\n",
      "    accuracy                          0.632       549\n",
      "   macro avg      0.576     0.758     0.516       549\n",
      "weighted avg      0.923     0.632     0.716       549\n",
      "\n",
      "CPU times: total: 46.9 s\n",
      "Wall time: 26 s\n"
     ]
    },
    {
     "name": "stderr",
     "output_type": "stream",
     "text": [
      "C:\\Users\\linov\\anaconda3\\lib\\site-packages\\sklearn\\neighbors\\_classification.py:228: FutureWarning: Unlike other reduction functions (e.g. `skew`, `kurtosis`), the default behavior of `mode` typically preserves the axis it acts along. In SciPy 1.11.0, this behavior will change: the default value of `keepdims` will become False, the `axis` over which the statistic is taken will be eliminated, and the value None will no longer be accepted. Set `keepdims` to True or False to avoid this warning.\n",
      "  mode, _ = stats.mode(_y[neigh_ind, k], axis=1)\n"
     ]
    }
   ],
   "source": [
    "%%time\n",
    "#testing it with different number of features reduced\n",
    "import umap\n",
    "\n",
    "manifold = umap.UMAP(n_components=30, n_neighbors=35, min_dist=0.2, n_jobs=-1).fit(X_resampled, y_resampled)\n",
    "X_train_UMAP = manifold.transform(X_resampled)\n",
    "\n",
    "from sklearn.neighbors import KNeighborsClassifier\n",
    "knn = KNeighborsClassifier(n_neighbors=5)\n",
    "knn.fit(X_train_UMAP, y_resampled)\n",
    "#clf = DecisionTreeClassifier(min_samples_leaf=10, random_state=42)\n",
    "#clf.fit(X_train_UMAP, y_resampled)\n",
    "\n",
    "X_test_UMAP = manifold.transform(X_test)\n",
    "\n",
    "y_pred = knn.predict(X_test_UMAP)\n",
    "\n",
    "print('Accuracy %s' % accuracy_score(y_test, y_pred))\n",
    "print('F1-score %s' % f1_score(y_test, y_pred, average=None))\n",
    "print(classification_report(y_test, y_pred, digits=3))"
   ]
  },
  {
   "cell_type": "markdown",
   "id": "cc533acc",
   "metadata": {},
   "source": [
    "### MDS"
   ]
  },
  {
   "cell_type": "code",
   "execution_count": 249,
   "id": "0693ce70",
   "metadata": {},
   "outputs": [
    {
     "name": "stdout",
     "output_type": "stream",
     "text": [
      "Accuracy 0.6994535519125683\n",
      "F1-score [0.81927711 0.10810811]\n",
      "              precision    recall  f1-score   support\n",
      "\n",
      "           0       0.92      0.74      0.82       506\n",
      "           1       0.07      0.23      0.11        43\n",
      "\n",
      "    accuracy                           0.70       549\n",
      "   macro avg       0.49      0.49      0.46       549\n",
      "weighted avg       0.85      0.70      0.76       549\n",
      "\n",
      "CPU times: total: 1.34 s\n",
      "Wall time: 2min 44s\n"
     ]
    }
   ],
   "source": [
    "%%time\n",
    "from sklearn.manifold import MDS\n",
    "\n",
    "mds = MDS(n_components=200, n_jobs=-1)\n",
    "X_train_mds = mds.fit_transform(X_resampled)\n",
    "\n",
    "clf = DecisionTreeClassifier(min_samples_leaf=3, random_state=42)\n",
    "clf.fit(X_train_mds, y_resampled)\n",
    "\n",
    "X_test_mds = mds.fit_transform(X_test)\n",
    "\n",
    "y_pred = clf.predict(X_test_mds)\n",
    "\n",
    "print('Accuracy %s' % accuracy_score(y_test, y_pred))\n",
    "print('F1-score %s' % f1_score(y_test, y_pred, average=None))\n",
    "print(classification_report(y_test, y_pred))"
   ]
  }
 ],
 "metadata": {
  "kernelspec": {
   "display_name": "Python 3 (ipykernel)",
   "language": "python",
   "name": "python3"
  },
  "language_info": {
   "codemirror_mode": {
    "name": "ipython",
    "version": 3
   },
   "file_extension": ".py",
   "mimetype": "text/x-python",
   "name": "python",
   "nbconvert_exporter": "python",
   "pygments_lexer": "ipython3",
   "version": "3.10.10"
  }
 },
 "nbformat": 4,
 "nbformat_minor": 5
}
