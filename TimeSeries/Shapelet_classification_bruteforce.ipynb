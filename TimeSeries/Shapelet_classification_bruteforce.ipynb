{
 "cells": [
  {
   "cell_type": "code",
   "execution_count": 1,
   "id": "9960afdd-3f4c-4626-ae2c-db70461bfd17",
   "metadata": {
    "execution": {
     "iopub.execute_input": "2023-06-20T20:48:56.919505Z",
     "iopub.status.busy": "2023-06-20T20:48:56.918475Z",
     "iopub.status.idle": "2023-06-20T20:48:59.547412Z",
     "shell.execute_reply": "2023-06-20T20:48:59.545673Z",
     "shell.execute_reply.started": "2023-06-20T20:48:56.919505Z"
    },
    "tags": []
   },
   "outputs": [],
   "source": [
    "import numpy as np\n",
    "import pandas as pd\n",
    "import matplotlib.pyplot as plt\n",
    "\n",
    "from sklearn.model_selection import train_test_split, cross_val_score \n",
    "\n",
    "from sklearn.model_selection import train_test_split, cross_val_score \n",
    "from sklearn.metrics import accuracy_score, f1_score, classification_report\n",
    "from pyts.classification import KNeighborsClassifier\n",
    "from sklearn.tree import DecisionTreeClassifier\n",
    "import gc\n",
    "\n",
    "from tslearn.piecewise import PiecewiseAggregateApproximation\n",
    "from IPython.display import Audio\n",
    "from tqdm.notebook import tqdm\n",
    "from pyts.transformation import ShapeletTransform"
   ]
  },
  {
   "cell_type": "markdown",
   "id": "5e81f1ff-4fc8-4713-8dd4-522a645c08a5",
   "metadata": {},
   "source": [
    "## Data preparation"
   ]
  },
  {
   "cell_type": "code",
   "execution_count": 2,
   "id": "a11a19a2-43d6-4787-9f32-9073639b7cc1",
   "metadata": {
    "execution": {
     "iopub.execute_input": "2023-06-20T20:48:59.559372Z",
     "iopub.status.busy": "2023-06-20T20:48:59.557376Z",
     "iopub.status.idle": "2023-06-20T20:49:01.097114Z",
     "shell.execute_reply": "2023-06-20T20:49:01.096114Z",
     "shell.execute_reply.started": "2023-06-20T20:48:59.559372Z"
    },
    "tags": []
   },
   "outputs": [
    {
     "data": {
      "text/plain": [
       "(2452, 23962)"
      ]
     },
     "execution_count": 2,
     "metadata": {},
     "output_type": "execute_result"
    }
   ],
   "source": [
    "#X = np.load(\"DATASETS/TimeSeriesTrimmed_Downsapled/X_100.npy\")\n",
    "X = np.load(\"DATASETS/TimeSeriesTrimmed_Downsapled/X_10.npy\")\n",
    "y = pd.read_csv(\"DATASETS/TimeSeriesTrimmed_Downsapled/y.csv\")\n",
    "\n",
    "np.nan_to_num(X,copy=False)\n",
    "X.shape"
   ]
  },
  {
   "cell_type": "code",
   "execution_count": 3,
   "id": "b046d4c9-f19d-45cf-abf3-3860c3ddab0b",
   "metadata": {
    "execution": {
     "iopub.execute_input": "2023-06-20T19:14:03.682270Z",
     "iopub.status.busy": "2023-06-20T19:14:03.682270Z",
     "iopub.status.idle": "2023-06-20T19:14:22.009405Z",
     "shell.execute_reply": "2023-06-20T19:14:22.008408Z",
     "shell.execute_reply.started": "2023-06-20T19:14:03.682270Z"
    }
   },
   "outputs": [
    {
     "data": {
      "text/plain": [
       "(2452, 243200)"
      ]
     },
     "execution_count": 3,
     "metadata": {},
     "output_type": "execute_result"
    }
   ],
   "source": [
    "X_train = np.load(\"DATASETS/TimeSeriesTrimmed/RavdessTimeSeriesTrim_X_train.npy\")\n",
    "y_train = pd.read_csv(\"DATASETS/TimeSeriesTrimmed/RavdessTimeSeriesTrim_Y_train.csv\")\n",
    "\n",
    "X_test = np.load(\"DATASETS/TimeSeriesTrimmed/RavdessTimeSeriesTrim_X_test.npy\")\n",
    "y_test = pd.read_csv(\"DATASETS/TimeSeriesTrimmed/RavdessTimeSeriesTrim_Y_test.csv\")\n",
    "\n",
    "X=np.concatenate((X_train,X_test))\n",
    "y=pd.concat([y_train, y_test], axis=0).reset_index(drop=True)\n",
    "\n",
    "del X_train,y_train,X_test,y_test\n",
    "gc.collect()\n",
    "\n",
    "np.nan_to_num(X,copy=False)\n",
    "X.shape"
   ]
  },
  {
   "cell_type": "code",
   "execution_count": 3,
   "id": "b5dde9e7-521b-4dc2-af30-3593bd92327c",
   "metadata": {
    "execution": {
     "iopub.execute_input": "2023-06-20T19:34:06.195916Z",
     "iopub.status.busy": "2023-06-20T19:34:06.195916Z",
     "iopub.status.idle": "2023-06-20T19:34:06.454225Z",
     "shell.execute_reply": "2023-06-20T19:34:06.453228Z",
     "shell.execute_reply.started": "2023-06-20T19:34:06.195916Z"
    }
   },
   "outputs": [
    {
     "data": {
      "text/plain": [
       "[<matplotlib.lines.Line2D at 0x1c23f0d73a0>]"
      ]
     },
     "execution_count": 3,
     "metadata": {},
     "output_type": "execute_result"
    },
    {
     "data": {
      "image/png": "[encoded data removed]",
      "text/plain": [
       "<Figure size 640x480 with 1 Axes>"
      ]
     },
     "metadata": {},
     "output_type": "display_data"
    }
   ],
   "source": [
    "plt.plot(X[200])"
   ]
  },
  {
   "cell_type": "raw",
   "id": "a947a102-5e18-4d4e-8bea-6322ca3bbc1d",
   "metadata": {
    "collapsed": true,
    "execution": {
     "iopub.execute_input": "2023-06-20T11:07:23.490631Z",
     "iopub.status.busy": "2023-06-20T11:07:23.490631Z",
     "iopub.status.idle": "2023-06-20T11:07:51.134138Z",
     "shell.execute_reply": "2023-06-20T11:07:51.133165Z",
     "shell.execute_reply.started": "2023-06-20T11:07:23.490631Z"
    },
    "jupyter": {
     "outputs_hidden": true
    },
    "scrolled": true
   },
   "source": [
    "n_paa_segments = 1000\n",
    "paa = PiecewiseAggregateApproximation(n_segments=n_paa_segments)\n",
    "\n",
    "X = list()\n",
    "for ts in tqdm(X_nd):\n",
    "    ts = ts[~np.isnan(ts)].reshape(1,-1)\n",
    "    ts_paa = paa.fit_transform(ts).squeeze()\n",
    "    X.append(ts_paa)\n",
    "\n",
    "del X_nd\n",
    "gc.collect()"
   ]
  },
  {
   "cell_type": "code",
   "execution_count": 3,
   "id": "60170e18-956b-475d-b1af-f01a446e1242",
   "metadata": {
    "execution": {
     "iopub.execute_input": "2023-06-20T20:49:01.099109Z",
     "iopub.status.busy": "2023-06-20T20:49:01.098111Z",
     "iopub.status.idle": "2023-06-20T20:49:01.112074Z",
     "shell.execute_reply": "2023-06-20T20:49:01.111085Z",
     "shell.execute_reply.started": "2023-06-20T20:49:01.099109Z"
    },
    "tags": []
   },
   "outputs": [],
   "source": [
    "emotion_mapper = {\"neutral\":0, \"calm\":1, \"happy\":2, \"sad\":3, \"angry\":4, \"fearful\":5, \"disgust\":6, \"surprised\":7}\n",
    "y = y[\"emotion\"].replace(emotion_mapper)"
   ]
  },
  {
   "cell_type": "code",
   "execution_count": 4,
   "id": "e82691fe-c959-4264-9a10-996bfca479fd",
   "metadata": {
    "execution": {
     "iopub.execute_input": "2023-06-20T20:49:01.119055Z",
     "iopub.status.busy": "2023-06-20T20:49:01.118059Z",
     "iopub.status.idle": "2023-06-20T20:49:01.393322Z",
     "shell.execute_reply": "2023-06-20T20:49:01.392323Z",
     "shell.execute_reply.started": "2023-06-20T20:49:01.119055Z"
    }
   },
   "outputs": [
    {
     "data": {
      "text/plain": [
       "8"
      ]
     },
     "execution_count": 4,
     "metadata": {},
     "output_type": "execute_result"
    }
   ],
   "source": [
    "X_train, X_test, y_train, y_test = train_test_split(X, y, test_size=0.3, stratify=y)\n",
    "del X,y\n",
    "gc.collect()"
   ]
  },
  {
   "cell_type": "markdown",
   "id": "f3456d3b-1342-4e03-be50-cb8226b1ad7b",
   "metadata": {
    "execution": {
     "iopub.execute_input": "2023-06-14T13:33:35.482598Z",
     "iopub.status.busy": "2023-06-14T13:33:35.481577Z",
     "iopub.status.idle": "2023-06-14T13:33:35.489558Z",
     "shell.execute_reply": "2023-06-14T13:33:35.488585Z",
     "shell.execute_reply.started": "2023-06-14T13:33:35.482598Z"
    },
    "jp-MarkdownHeadingCollapsed": true
   },
   "source": [
    "## Brute Force Approach"
   ]
  },
  {
   "cell_type": "code",
   "execution_count": 5,
   "id": "70f30219-332b-4225-ba29-d94b75ab4f5b",
   "metadata": {
    "execution": {
     "iopub.execute_input": "2023-06-20T18:59:11.535973Z",
     "iopub.status.busy": "2023-06-20T18:59:11.535973Z",
     "iopub.status.idle": "2023-06-20T18:59:11.541955Z",
     "shell.execute_reply": "2023-06-20T18:59:11.540995Z",
     "shell.execute_reply.started": "2023-06-20T18:59:11.535973Z"
    }
   },
   "outputs": [],
   "source": [
    "from pyts.transformation import ShapeletTransform"
   ]
  },
  {
   "cell_type": "code",
   "execution_count": 1,
   "id": "698071d9-7c07-43b2-95b5-ab097152c7ce",
   "metadata": {
    "execution": {
     "iopub.execute_input": "2023-06-20T19:01:00.792443Z",
     "iopub.status.busy": "2023-06-20T19:01:00.791446Z",
     "iopub.status.idle": "2023-06-20T19:01:01.242235Z",
     "shell.execute_reply": "2023-06-20T19:01:01.240266Z",
     "shell.execute_reply.started": "2023-06-20T19:01:00.792443Z"
    }
   },
   "outputs": [
    {
     "ename": "NameError",
     "evalue": "name 'ShapeletTransform' is not defined",
     "output_type": "error",
     "traceback": [
      "\u001b[1;31m---------------------------------------------------------------------------\u001b[0m",
      "\u001b[1;31mNameError\u001b[0m                                 Traceback (most recent call last)",
      "Cell \u001b[1;32mIn[1], line 2\u001b[0m\n\u001b[0;32m      1\u001b[0m \u001b[38;5;66;03m# Shapelet transformation\u001b[39;00m\n\u001b[1;32m----> 2\u001b[0m st \u001b[38;5;241m=\u001b[39m \u001b[43mShapeletTransform\u001b[49m(\n\u001b[0;32m      3\u001b[0m                         window_sizes\u001b[38;5;241m=\u001b[39m[\u001b[38;5;241m200\u001b[39m,\u001b[38;5;241m300\u001b[39m],\n\u001b[0;32m      4\u001b[0m                         window_steps\u001b[38;5;241m=\u001b[39m[\u001b[38;5;241m80\u001b[39m,\u001b[38;5;241m100\u001b[39m],\n\u001b[0;32m      5\u001b[0m                         sort\u001b[38;5;241m=\u001b[39m\u001b[38;5;28;01mTrue\u001b[39;00m,\n\u001b[0;32m      6\u001b[0m                         verbose\u001b[38;5;241m=\u001b[39m\u001b[38;5;241m60\u001b[39m,\n\u001b[0;32m      7\u001b[0m                         n_jobs\u001b[38;5;241m=\u001b[39m\u001b[38;5;241m-\u001b[39m\u001b[38;5;241m1\u001b[39m)\n\u001b[0;32m      8\u001b[0m X_new \u001b[38;5;241m=\u001b[39m st\u001b[38;5;241m.\u001b[39mfit_transform(X_train, y_train)\n\u001b[0;32m      9\u001b[0m X_test_new \u001b[38;5;241m=\u001b[39m st\u001b[38;5;241m.\u001b[39mtransform(X_test)\n",
      "\u001b[1;31mNameError\u001b[0m: name 'ShapeletTransform' is not defined"
     ]
    }
   ],
   "source": [
    "# Shapelet transformation\n",
    "st = ShapeletTransform(\n",
    "                        window_sizes=[200,300],\n",
    "                        window_steps=[80,100],\n",
    "                        sort=True,\n",
    "                        verbose=60,\n",
    "                        n_jobs=-1)\n",
    "X_new = st.fit_transform(X_train, y_train)\n",
    "X_test_new = st.transform(X_test)"
   ]
  },
  {
   "cell_type": "code",
   "execution_count": null,
   "id": "aa10323a-a872-4042-a7e2-6ea07f1816d9",
   "metadata": {},
   "outputs": [],
   "source": [
    "from sklearn.tree import DecisionTreeClassifier\n",
    "clf = DecisionTreeClassifier(max_depth=8, random_state=42)\n",
    "clf.fit(X_new, y_train)\n",
    "\n",
    "y_pred = clf.predict(X_test_new)\n",
    "\n",
    "print('Accuracy %s' % accuracy_score(y_test, y_pred))\n",
    "print('F1-score %s' % f1_score(y_test, y_pred, average=None))\n",
    "print(classification_report(y_test, y_pred))"
   ]
  },
  {
   "cell_type": "markdown",
   "id": "37186a0b-b41d-415a-9910-75f0ab261d95",
   "metadata": {},
   "source": [
    "## Learning base"
   ]
  },
  {
   "cell_type": "code",
   "execution_count": 5,
   "id": "0770816f-b402-461e-8615-ba1be0fa9f12",
   "metadata": {
    "execution": {
     "iopub.execute_input": "2023-06-20T20:49:05.250741Z",
     "iopub.status.busy": "2023-06-20T20:49:05.249745Z",
     "iopub.status.idle": "2023-06-20T20:49:08.614935Z",
     "shell.execute_reply": "2023-06-20T20:49:08.614935Z",
     "shell.execute_reply.started": "2023-06-20T20:49:05.250741Z"
    }
   },
   "outputs": [],
   "source": [
    "from keras.optimizers import Adagrad\n",
    "from tslearn.shapelets import ShapeletModel\n",
    "from tslearn.shapelets import grabocka_params_to_shapelet_size_dict"
   ]
  },
  {
   "cell_type": "code",
   "execution_count": 6,
   "id": "3ef7ecdd-7a3b-4440-8ca2-daacef272e29",
   "metadata": {
    "execution": {
     "iopub.execute_input": "2023-06-20T20:49:15.564041Z",
     "iopub.status.busy": "2023-06-20T20:49:15.563043Z",
     "iopub.status.idle": "2023-06-20T20:49:15.581991Z",
     "shell.execute_reply": "2023-06-20T20:49:15.580994Z",
     "shell.execute_reply.started": "2023-06-20T20:49:15.564041Z"
    },
    "id": "bnCCX4xTpkoM",
    "outputId": "a20eac3c-5d9d-4d41-c3cb-9b7f462f773a"
   },
   "outputs": [
    {
     "name": "stdout",
     "output_type": "stream",
     "text": [
      "n_ts 1716\n",
      "ts_sz 23962\n",
      "n_classes 8\n",
      "shapelet_sizes {2396: 8}\n"
     ]
    }
   ],
   "source": [
    "n_ts = len(X_train)\n",
    "ts_sz = len(X_train[0])\n",
    "n_classes = len(set(y_train))\n",
    "\n",
    "# Set the number of shapelets per size as done in the original paper\n",
    "shapelet_sizes = grabocka_params_to_shapelet_size_dict(n_ts=n_ts,\n",
    "                                                       ts_sz=ts_sz,\n",
    "                                                       n_classes=n_classes,\n",
    "                                                       l=0.1,\n",
    "                                                       r=1)\n",
    "\n",
    "print('n_ts', n_ts)\n",
    "print('ts_sz', ts_sz)\n",
    "print('n_classes', n_classes)\n",
    "print('shapelet_sizes', shapelet_sizes)"
   ]
  },
  {
   "cell_type": "code",
   "execution_count": 14,
   "id": "55a8e92b-d963-47c7-a50c-e3ef552c56e4",
   "metadata": {
    "execution": {
     "iopub.execute_input": "2023-06-20T20:52:46.279209Z",
     "iopub.status.busy": "2023-06-20T20:52:46.279209Z",
     "iopub.status.idle": "2023-06-20T20:52:46.287188Z",
     "shell.execute_reply": "2023-06-20T20:52:46.286226Z",
     "shell.execute_reply.started": "2023-06-20T20:52:46.279209Z"
    },
    "id": "NGP-fUbGpkoM",
    "outputId": "8ed07a15-ea74-48f0-c911-578959844a64"
   },
   "outputs": [],
   "source": [
    "# Define the model using parameters provided by the authors (except that we use\n",
    "# fewer iterations here)\n",
    "shp_clf = ShapeletModel(n_shapelets_per_size=shapelet_sizes,\n",
    "                        optimizer=\"sgd\",\n",
    "                        weight_regularizer=.01,\n",
    "                        max_iter=10,\n",
    "                        batch_size=128,\n",
    "                        verbose=1,\n",
    "                       scale=True)"
   ]
  },
  {
   "cell_type": "code",
   "execution_count": 15,
   "id": "38ddf7fe-ff63-428b-8429-451a393ec97d",
   "metadata": {
    "execution": {
     "iopub.execute_input": "2023-06-20T20:52:47.645462Z",
     "iopub.status.busy": "2023-06-20T20:52:47.644465Z",
     "iopub.status.idle": "2023-06-20T20:53:34.367553Z",
     "shell.execute_reply": "2023-06-20T20:53:34.365557Z",
     "shell.execute_reply.started": "2023-06-20T20:52:47.645462Z"
    },
    "scrolled": true
   },
   "outputs": [
    {
     "name": "stdout",
     "output_type": "stream",
     "text": [
      "Epoch 1/10\n"
     ]
    },
    {
     "ename": "ResourceExhaustedError",
     "evalue": "Graph execution error:\n\nDetected at node 'model_9/false_conv_0_0/Conv1D' defined at (most recent call last):\n    File \"D:\\Python\\lib\\runpy.py\", line 196, in _run_module_as_main\n      return _run_code(code, main_globals, None,\n    File \"D:\\Python\\lib\\runpy.py\", line 86, in _run_code\n      exec(code, run_globals)\n    File \"D:\\Python\\lib\\site-packages\\ipykernel_launcher.py\", line 17, in <module>\n      app.launch_new_instance()\n    File \"D:\\Python\\lib\\site-packages\\traitlets\\config\\application.py\", line 1043, in launch_instance\n      app.start()\n    File \"D:\\Python\\lib\\site-packages\\ipykernel\\kernelapp.py\", line 725, in start\n      self.io_loop.start()\n    File \"D:\\Python\\lib\\site-packages\\tornado\\platform\\asyncio.py\", line 195, in start\n      self.asyncio_loop.run_forever()\n    File \"D:\\Python\\lib\\asyncio\\base_events.py\", line 603, in run_forever\n      self._run_once()\n    File \"D:\\Python\\lib\\asyncio\\base_events.py\", line 1909, in _run_once\n      handle._run()\n    File \"D:\\Python\\lib\\asyncio\\events.py\", line 80, in _run\n      self._context.run(self._callback, *self._args)\n    File \"D:\\Python\\lib\\site-packages\\ipykernel\\kernelbase.py\", line 513, in dispatch_queue\n      await self.process_one()\n    File \"D:\\Python\\lib\\site-packages\\ipykernel\\kernelbase.py\", line 502, in process_one\n      await dispatch(*args)\n    File \"D:\\Python\\lib\\site-packages\\ipykernel\\kernelbase.py\", line 409, in dispatch_shell\n      await result\n    File \"D:\\Python\\lib\\site-packages\\ipykernel\\kernelbase.py\", line 729, in execute_request\n      reply_content = await reply_content\n    File \"D:\\Python\\lib\\site-packages\\ipykernel\\ipkernel.py\", line 422, in do_execute\n      res = shell.run_cell(\n    File \"D:\\Python\\lib\\site-packages\\ipykernel\\zmqshell.py\", line 540, in run_cell\n      return super().run_cell(*args, **kwargs)\n    File \"D:\\Python\\lib\\site-packages\\IPython\\core\\interactiveshell.py\", line 3009, in run_cell\n      result = self._run_cell(\n    File \"D:\\Python\\lib\\site-packages\\IPython\\core\\interactiveshell.py\", line 3064, in _run_cell\n      result = runner(coro)\n    File \"D:\\Python\\lib\\site-packages\\IPython\\core\\async_helpers.py\", line 129, in _pseudo_sync_runner\n      coro.send(None)\n    File \"D:\\Python\\lib\\site-packages\\IPython\\core\\interactiveshell.py\", line 3269, in run_cell_async\n      has_raised = await self.run_ast_nodes(code_ast.body, cell_name,\n    File \"D:\\Python\\lib\\site-packages\\IPython\\core\\interactiveshell.py\", line 3448, in run_ast_nodes\n      if await self.run_code(code, result, async_=asy):\n    File \"D:\\Python\\lib\\site-packages\\IPython\\core\\interactiveshell.py\", line 3508, in run_code\n      exec(code_obj, self.user_global_ns, self.user_ns)\n    File \"C:\\Users\\andri\\AppData\\Local\\Temp\\ipykernel_17844\\5649822.py\", line 1, in <module>\n      shp_clf.fit(X_train, y_train)\n    File \"D:\\Python\\lib\\site-packages\\tslearn\\shapelets\\shapelets.py\", line 446, in fit\n      h = self.model_.fit(\n    File \"D:\\Python\\lib\\site-packages\\keras\\utils\\traceback_utils.py\", line 65, in error_handler\n      return fn(*args, **kwargs)\n    File \"D:\\Python\\lib\\site-packages\\keras\\engine\\training.py\", line 1564, in fit\n      tmp_logs = self.train_function(iterator)\n    File \"D:\\Python\\lib\\site-packages\\keras\\engine\\training.py\", line 1160, in train_function\n      return step_function(self, iterator)\n    File \"D:\\Python\\lib\\site-packages\\keras\\engine\\training.py\", line 1146, in step_function\n      outputs = model.distribute_strategy.run(run_step, args=(data,))\n    File \"D:\\Python\\lib\\site-packages\\keras\\engine\\training.py\", line 1135, in run_step\n      outputs = model.train_step(data)\n    File \"D:\\Python\\lib\\site-packages\\keras\\engine\\training.py\", line 993, in train_step\n      y_pred = self(x, training=True)\n    File \"D:\\Python\\lib\\site-packages\\keras\\utils\\traceback_utils.py\", line 65, in error_handler\n      return fn(*args, **kwargs)\n    File \"D:\\Python\\lib\\site-packages\\keras\\engine\\training.py\", line 557, in __call__\n      return super().__call__(*args, **kwargs)\n    File \"D:\\Python\\lib\\site-packages\\keras\\utils\\traceback_utils.py\", line 65, in error_handler\n      return fn(*args, **kwargs)\n    File \"D:\\Python\\lib\\site-packages\\keras\\engine\\base_layer.py\", line 1097, in __call__\n      outputs = call_fn(inputs, *args, **kwargs)\n    File \"D:\\Python\\lib\\site-packages\\keras\\utils\\traceback_utils.py\", line 96, in error_handler\n      return fn(*args, **kwargs)\n    File \"D:\\Python\\lib\\site-packages\\keras\\engine\\functional.py\", line 510, in call\n      return self._run_internal_graph(inputs, training=training, mask=mask)\n    File \"D:\\Python\\lib\\site-packages\\keras\\engine\\functional.py\", line 667, in _run_internal_graph\n      outputs = node.layer(*args, **kwargs)\n    File \"D:\\Python\\lib\\site-packages\\keras\\utils\\traceback_utils.py\", line 65, in error_handler\n      return fn(*args, **kwargs)\n    File \"D:\\Python\\lib\\site-packages\\keras\\engine\\base_layer.py\", line 1097, in __call__\n      outputs = call_fn(inputs, *args, **kwargs)\n    File \"D:\\Python\\lib\\site-packages\\keras\\utils\\traceback_utils.py\", line 96, in error_handler\n      return fn(*args, **kwargs)\n    File \"D:\\Python\\lib\\site-packages\\keras\\layers\\convolutional\\base_conv.py\", line 283, in call\n      outputs = self.convolution_op(inputs, self.kernel)\n    File \"D:\\Python\\lib\\site-packages\\keras\\layers\\convolutional\\base_conv.py\", line 255, in convolution_op\n      return tf.nn.convolution(\nNode: 'model_9/false_conv_0_0/Conv1D'\nOOM when allocating tensor with shape[256,1,21567,2396] and type float on /job:localhost/replica:0/task:0/device:CPU:0 by allocator cpu\n\t [[{{node model_9/false_conv_0_0/Conv1D}}]]\nHint: If you want to see a list of allocated tensors when OOM happens, add report_tensor_allocations_upon_oom to RunOptions for current allocation info. This isn't available when running in Eager mode.\n [Op:__inference_train_function_4314]",
     "output_type": "error",
     "traceback": [
      "\u001b[1;31m---------------------------------------------------------------------------\u001b[0m",
      "\u001b[1;31mResourceExhaustedError\u001b[0m                    Traceback (most recent call last)",
      "Cell \u001b[1;32mIn[15], line 1\u001b[0m\n\u001b[1;32m----> 1\u001b[0m \u001b[43mshp_clf\u001b[49m\u001b[38;5;241;43m.\u001b[39;49m\u001b[43mfit\u001b[49m\u001b[43m(\u001b[49m\u001b[43mX_train\u001b[49m\u001b[43m,\u001b[49m\u001b[43m \u001b[49m\u001b[43my_train\u001b[49m\u001b[43m)\u001b[49m\n",
      "File \u001b[1;32mD:\\Python\\lib\\site-packages\\tslearn\\shapelets\\shapelets.py:446\u001b[0m, in \u001b[0;36mLearningShapelets.fit\u001b[1;34m(self, X, y)\u001b[0m\n\u001b[0;32m    444\u001b[0m \u001b[38;5;28mself\u001b[39m\u001b[38;5;241m.\u001b[39m_set_model_layers(X\u001b[38;5;241m=\u001b[39mX, ts_sz\u001b[38;5;241m=\u001b[39msz, d\u001b[38;5;241m=\u001b[39md, n_classes\u001b[38;5;241m=\u001b[39mn_labels)\n\u001b[0;32m    445\u001b[0m \u001b[38;5;28mself\u001b[39m\u001b[38;5;241m.\u001b[39m_set_weights_false_conv(d\u001b[38;5;241m=\u001b[39md)\n\u001b[1;32m--> 446\u001b[0m h \u001b[38;5;241m=\u001b[39m \u001b[38;5;28;43mself\u001b[39;49m\u001b[38;5;241;43m.\u001b[39;49m\u001b[43mmodel_\u001b[49m\u001b[38;5;241;43m.\u001b[39;49m\u001b[43mfit\u001b[49m\u001b[43m(\u001b[49m\n\u001b[0;32m    447\u001b[0m \u001b[43m    \u001b[49m\u001b[43m[\u001b[49m\u001b[43mX\u001b[49m\u001b[43m[\u001b[49m\u001b[43m:\u001b[49m\u001b[43m,\u001b[49m\u001b[43m \u001b[49m\u001b[43m:\u001b[49m\u001b[43m,\u001b[49m\u001b[43m \u001b[49m\u001b[43mdi\u001b[49m\u001b[43m]\u001b[49m\u001b[38;5;241;43m.\u001b[39;49m\u001b[43mreshape\u001b[49m\u001b[43m(\u001b[49m\u001b[43m(\u001b[49m\u001b[43mn_ts\u001b[49m\u001b[43m,\u001b[49m\u001b[43m \u001b[49m\u001b[43msz\u001b[49m\u001b[43m,\u001b[49m\u001b[43m \u001b[49m\u001b[38;5;241;43m1\u001b[39;49m\u001b[43m)\u001b[49m\u001b[43m)\u001b[49m\u001b[43m \u001b[49m\u001b[38;5;28;43;01mfor\u001b[39;49;00m\u001b[43m \u001b[49m\u001b[43mdi\u001b[49m\u001b[43m \u001b[49m\u001b[38;5;129;43;01min\u001b[39;49;00m\u001b[43m \u001b[49m\u001b[38;5;28;43mrange\u001b[39;49m\u001b[43m(\u001b[49m\u001b[43md\u001b[49m\u001b[43m)\u001b[49m\u001b[43m]\u001b[49m\u001b[43m,\u001b[49m\u001b[43m \u001b[49m\u001b[43my_\u001b[49m\u001b[43m,\u001b[49m\n\u001b[0;32m    448\u001b[0m \u001b[43m    \u001b[49m\u001b[43mbatch_size\u001b[49m\u001b[38;5;241;43m=\u001b[39;49m\u001b[38;5;28;43mself\u001b[39;49m\u001b[38;5;241;43m.\u001b[39;49m\u001b[43mbatch_size\u001b[49m\u001b[43m,\u001b[49m\u001b[43m \u001b[49m\u001b[43mepochs\u001b[49m\u001b[38;5;241;43m=\u001b[39;49m\u001b[38;5;28;43mself\u001b[39;49m\u001b[38;5;241;43m.\u001b[39;49m\u001b[43mmax_iter\u001b[49m\u001b[43m,\u001b[49m\n\u001b[0;32m    449\u001b[0m \u001b[43m    \u001b[49m\u001b[43mverbose\u001b[49m\u001b[38;5;241;43m=\u001b[39;49m\u001b[38;5;28;43mself\u001b[39;49m\u001b[38;5;241;43m.\u001b[39;49m\u001b[43mverbose\u001b[49m\n\u001b[0;32m    450\u001b[0m \u001b[43m\u001b[49m\u001b[43m)\u001b[49m\n\u001b[0;32m    451\u001b[0m \u001b[38;5;28mself\u001b[39m\u001b[38;5;241m.\u001b[39mhistory_ \u001b[38;5;241m=\u001b[39m h\u001b[38;5;241m.\u001b[39mhistory\n\u001b[0;32m    452\u001b[0m \u001b[38;5;28mself\u001b[39m\u001b[38;5;241m.\u001b[39mn_iter_ \u001b[38;5;241m=\u001b[39m \u001b[38;5;28mlen\u001b[39m(\u001b[38;5;28mself\u001b[39m\u001b[38;5;241m.\u001b[39mhistory_\u001b[38;5;241m.\u001b[39mget(\u001b[38;5;124m\"\u001b[39m\u001b[38;5;124mloss\u001b[39m\u001b[38;5;124m\"\u001b[39m, []))\n",
      "File \u001b[1;32mD:\\Python\\lib\\site-packages\\keras\\utils\\traceback_utils.py:70\u001b[0m, in \u001b[0;36mfilter_traceback.<locals>.error_handler\u001b[1;34m(*args, **kwargs)\u001b[0m\n\u001b[0;32m     67\u001b[0m     filtered_tb \u001b[38;5;241m=\u001b[39m _process_traceback_frames(e\u001b[38;5;241m.\u001b[39m__traceback__)\n\u001b[0;32m     68\u001b[0m     \u001b[38;5;66;03m# To get the full stack trace, call:\u001b[39;00m\n\u001b[0;32m     69\u001b[0m     \u001b[38;5;66;03m# `tf.debugging.disable_traceback_filtering()`\u001b[39;00m\n\u001b[1;32m---> 70\u001b[0m     \u001b[38;5;28;01mraise\u001b[39;00m e\u001b[38;5;241m.\u001b[39mwith_traceback(filtered_tb) \u001b[38;5;28;01mfrom\u001b[39;00m \u001b[38;5;28;01mNone\u001b[39;00m\n\u001b[0;32m     71\u001b[0m \u001b[38;5;28;01mfinally\u001b[39;00m:\n\u001b[0;32m     72\u001b[0m     \u001b[38;5;28;01mdel\u001b[39;00m filtered_tb\n",
      "File \u001b[1;32mD:\\Python\\lib\\site-packages\\tensorflow\\python\\eager\\execute.py:54\u001b[0m, in \u001b[0;36mquick_execute\u001b[1;34m(op_name, num_outputs, inputs, attrs, ctx, name)\u001b[0m\n\u001b[0;32m     52\u001b[0m \u001b[38;5;28;01mtry\u001b[39;00m:\n\u001b[0;32m     53\u001b[0m   ctx\u001b[38;5;241m.\u001b[39mensure_initialized()\n\u001b[1;32m---> 54\u001b[0m   tensors \u001b[38;5;241m=\u001b[39m pywrap_tfe\u001b[38;5;241m.\u001b[39mTFE_Py_Execute(ctx\u001b[38;5;241m.\u001b[39m_handle, device_name, op_name,\n\u001b[0;32m     55\u001b[0m                                       inputs, attrs, num_outputs)\n\u001b[0;32m     56\u001b[0m \u001b[38;5;28;01mexcept\u001b[39;00m core\u001b[38;5;241m.\u001b[39m_NotOkStatusException \u001b[38;5;28;01mas\u001b[39;00m e:\n\u001b[0;32m     57\u001b[0m   \u001b[38;5;28;01mif\u001b[39;00m name \u001b[38;5;129;01mis\u001b[39;00m \u001b[38;5;129;01mnot\u001b[39;00m \u001b[38;5;28;01mNone\u001b[39;00m:\n",
      "\u001b[1;31mResourceExhaustedError\u001b[0m: Graph execution error:\n\nDetected at node 'model_9/false_conv_0_0/Conv1D' defined at (most recent call last):\n    File \"D:\\Python\\lib\\runpy.py\", line 196, in _run_module_as_main\n      return _run_code(code, main_globals, None,\n    File \"D:\\Python\\lib\\runpy.py\", line 86, in _run_code\n      exec(code, run_globals)\n    File \"D:\\Python\\lib\\site-packages\\ipykernel_launcher.py\", line 17, in <module>\n      app.launch_new_instance()\n    File \"D:\\Python\\lib\\site-packages\\traitlets\\config\\application.py\", line 1043, in launch_instance\n      app.start()\n    File \"D:\\Python\\lib\\site-packages\\ipykernel\\kernelapp.py\", line 725, in start\n      self.io_loop.start()\n    File \"D:\\Python\\lib\\site-packages\\tornado\\platform\\asyncio.py\", line 195, in start\n      self.asyncio_loop.run_forever()\n    File \"D:\\Python\\lib\\asyncio\\base_events.py\", line 603, in run_forever\n      self._run_once()\n    File \"D:\\Python\\lib\\asyncio\\base_events.py\", line 1909, in _run_once\n      handle._run()\n    File \"D:\\Python\\lib\\asyncio\\events.py\", line 80, in _run\n      self._context.run(self._callback, *self._args)\n    File \"D:\\Python\\lib\\site-packages\\ipykernel\\kernelbase.py\", line 513, in dispatch_queue\n      await self.process_one()\n    File \"D:\\Python\\lib\\site-packages\\ipykernel\\kernelbase.py\", line 502, in process_one\n      await dispatch(*args)\n    File \"D:\\Python\\lib\\site-packages\\ipykernel\\kernelbase.py\", line 409, in dispatch_shell\n      await result\n    File \"D:\\Python\\lib\\site-packages\\ipykernel\\kernelbase.py\", line 729, in execute_request\n      reply_content = await reply_content\n    File \"D:\\Python\\lib\\site-packages\\ipykernel\\ipkernel.py\", line 422, in do_execute\n      res = shell.run_cell(\n    File \"D:\\Python\\lib\\site-packages\\ipykernel\\zmqshell.py\", line 540, in run_cell\n      return super().run_cell(*args, **kwargs)\n    File \"D:\\Python\\lib\\site-packages\\IPython\\core\\interactiveshell.py\", line 3009, in run_cell\n      result = self._run_cell(\n    File \"D:\\Python\\lib\\site-packages\\IPython\\core\\interactiveshell.py\", line 3064, in _run_cell\n      result = runner(coro)\n    File \"D:\\Python\\lib\\site-packages\\IPython\\core\\async_helpers.py\", line 129, in _pseudo_sync_runner\n      coro.send(None)\n    File \"D:\\Python\\lib\\site-packages\\IPython\\core\\interactiveshell.py\", line 3269, in run_cell_async\n      has_raised = await self.run_ast_nodes(code_ast.body, cell_name,\n    File \"D:\\Python\\lib\\site-packages\\IPython\\core\\interactiveshell.py\", line 3448, in run_ast_nodes\n      if await self.run_code(code, result, async_=asy):\n    File \"D:\\Python\\lib\\site-packages\\IPython\\core\\interactiveshell.py\", line 3508, in run_code\n      exec(code_obj, self.user_global_ns, self.user_ns)\n    File \"C:\\Users\\andri\\AppData\\Local\\Temp\\ipykernel_17844\\5649822.py\", line 1, in <module>\n      shp_clf.fit(X_train, y_train)\n    File \"D:\\Python\\lib\\site-packages\\tslearn\\shapelets\\shapelets.py\", line 446, in fit\n      h = self.model_.fit(\n    File \"D:\\Python\\lib\\site-packages\\keras\\utils\\traceback_utils.py\", line 65, in error_handler\n      return fn(*args, **kwargs)\n    File \"D:\\Python\\lib\\site-packages\\keras\\engine\\training.py\", line 1564, in fit\n      tmp_logs = self.train_function(iterator)\n    File \"D:\\Python\\lib\\site-packages\\keras\\engine\\training.py\", line 1160, in train_function\n      return step_function(self, iterator)\n    File \"D:\\Python\\lib\\site-packages\\keras\\engine\\training.py\", line 1146, in step_function\n      outputs = model.distribute_strategy.run(run_step, args=(data,))\n    File \"D:\\Python\\lib\\site-packages\\keras\\engine\\training.py\", line 1135, in run_step\n      outputs = model.train_step(data)\n    File \"D:\\Python\\lib\\site-packages\\keras\\engine\\training.py\", line 993, in train_step\n      y_pred = self(x, training=True)\n    File \"D:\\Python\\lib\\site-packages\\keras\\utils\\traceback_utils.py\", line 65, in error_handler\n      return fn(*args, **kwargs)\n    File \"D:\\Python\\lib\\site-packages\\keras\\engine\\training.py\", line 557, in __call__\n      return super().__call__(*args, **kwargs)\n    File \"D:\\Python\\lib\\site-packages\\keras\\utils\\traceback_utils.py\", line 65, in error_handler\n      return fn(*args, **kwargs)\n    File \"D:\\Python\\lib\\site-packages\\keras\\engine\\base_layer.py\", line 1097, in __call__\n      outputs = call_fn(inputs, *args, **kwargs)\n    File \"D:\\Python\\lib\\site-packages\\keras\\utils\\traceback_utils.py\", line 96, in error_handler\n      return fn(*args, **kwargs)\n    File \"D:\\Python\\lib\\site-packages\\keras\\engine\\functional.py\", line 510, in call\n      return self._run_internal_graph(inputs, training=training, mask=mask)\n    File \"D:\\Python\\lib\\site-packages\\keras\\engine\\functional.py\", line 667, in _run_internal_graph\n      outputs = node.layer(*args, **kwargs)\n    File \"D:\\Python\\lib\\site-packages\\keras\\utils\\traceback_utils.py\", line 65, in error_handler\n      return fn(*args, **kwargs)\n    File \"D:\\Python\\lib\\site-packages\\keras\\engine\\base_layer.py\", line 1097, in __call__\n      outputs = call_fn(inputs, *args, **kwargs)\n    File \"D:\\Python\\lib\\site-packages\\keras\\utils\\traceback_utils.py\", line 96, in error_handler\n      return fn(*args, **kwargs)\n    File \"D:\\Python\\lib\\site-packages\\keras\\layers\\convolutional\\base_conv.py\", line 283, in call\n      outputs = self.convolution_op(inputs, self.kernel)\n    File \"D:\\Python\\lib\\site-packages\\keras\\layers\\convolutional\\base_conv.py\", line 255, in convolution_op\n      return tf.nn.convolution(\nNode: 'model_9/false_conv_0_0/Conv1D'\nOOM when allocating tensor with shape[256,1,21567,2396] and type float on /job:localhost/replica:0/task:0/device:CPU:0 by allocator cpu\n\t [[{{node model_9/false_conv_0_0/Conv1D}}]]\nHint: If you want to see a list of allocated tensors when OOM happens, add report_tensor_allocations_upon_oom to RunOptions for current allocation info. This isn't available when running in Eager mode.\n [Op:__inference_train_function_4314]"
     ]
    }
   ],
   "source": [
    "shp_clf.fit(X_train, y_train)"
   ]
  },
  {
   "cell_type": "code",
   "execution_count": null,
   "id": "e44716d3-5e64-45ca-9674-b4e9fbc11a9f",
   "metadata": {
    "id": "kir_odYapkoN",
    "outputId": "63588a77-7afb-4db7-9f42-ca1eec501291"
   },
   "outputs": [],
   "source": [
    "y_pred = shp_clf.predict(X_test)"
   ]
  },
  {
   "cell_type": "code",
   "execution_count": 26,
   "id": "0b614926-c7f5-478f-a349-69daeb318dc7",
   "metadata": {
    "execution": {
     "iopub.execute_input": "2023-06-20T20:48:03.428263Z",
     "iopub.status.busy": "2023-06-20T20:48:03.428263Z",
     "iopub.status.idle": "2023-06-20T20:48:03.459180Z",
     "shell.execute_reply": "2023-06-20T20:48:03.458182Z",
     "shell.execute_reply.started": "2023-06-20T20:48:03.428263Z"
    },
    "id": "-rcdcLMBpkoN",
    "outputId": "44abc232-e46e-479e-9928-f8d136915d4d"
   },
   "outputs": [
    {
     "name": "stdout",
     "output_type": "stream",
     "text": [
      "Accuracy 0.1453804347826087\n",
      "F1-score [0.07352941 0.         0.         0.17857143 0.         0.24924012\n",
      " 0.         0.        ]\n",
      "              precision    recall  f1-score   support\n",
      "\n",
      "           0       0.06      0.09      0.07        56\n",
      "           1       0.00      0.00      0.00       113\n",
      "           2       0.00      0.00      0.00       113\n",
      "           3       0.18      0.18      0.18       113\n",
      "           4       0.00      0.00      0.00       113\n",
      "           5       0.15      0.73      0.25       113\n",
      "           6       0.00      0.00      0.00        58\n",
      "           7       0.00      0.00      0.00        57\n",
      "\n",
      "    accuracy                           0.15       736\n",
      "   macro avg       0.05      0.12      0.06       736\n",
      "weighted avg       0.06      0.15      0.07       736\n",
      "\n"
     ]
    },
    {
     "name": "stderr",
     "output_type": "stream",
     "text": [
      "D:\\Python\\lib\\site-packages\\sklearn\\metrics\\_classification.py:1344: UndefinedMetricWarning: Precision and F-score are ill-defined and being set to 0.0 in labels with no predicted samples. Use `zero_division` parameter to control this behavior.\n",
      "  _warn_prf(average, modifier, msg_start, len(result))\n",
      "D:\\Python\\lib\\site-packages\\sklearn\\metrics\\_classification.py:1344: UndefinedMetricWarning: Precision and F-score are ill-defined and being set to 0.0 in labels with no predicted samples. Use `zero_division` parameter to control this behavior.\n",
      "  _warn_prf(average, modifier, msg_start, len(result))\n",
      "D:\\Python\\lib\\site-packages\\sklearn\\metrics\\_classification.py:1344: UndefinedMetricWarning: Precision and F-score are ill-defined and being set to 0.0 in labels with no predicted samples. Use `zero_division` parameter to control this behavior.\n",
      "  _warn_prf(average, modifier, msg_start, len(result))\n"
     ]
    }
   ],
   "source": [
    "print('Accuracy %s' % accuracy_score(y_test, y_pred))\n",
    "print('F1-score %s' % f1_score(y_test, y_pred, average=None))\n",
    "print(classification_report(y_test, y_pred))"
   ]
  },
  {
   "cell_type": "markdown",
   "id": "7bf04469-22be-4e7f-a098-2e1d10bc6336",
   "metadata": {
    "id": "-TxnXRcYpkoN"
   },
   "source": [
    "## Shaplet-distances-based Classifier"
   ]
  },
  {
   "cell_type": "code",
   "execution_count": 8,
   "id": "8e1bfbb1-382d-4321-99f4-3592d9a99dbd",
   "metadata": {
    "execution": {
     "iopub.execute_input": "2023-06-20T20:49:20.467676Z",
     "iopub.status.busy": "2023-06-20T20:49:20.466678Z",
     "iopub.status.idle": "2023-06-20T20:49:21.943670Z",
     "shell.execute_reply": "2023-06-20T20:49:21.942673Z",
     "shell.execute_reply.started": "2023-06-20T20:49:20.467676Z"
    },
    "id": "zXmL7T9FpkoN",
    "outputId": "147eb02b-e845-456d-9638-3f9c3eb45fe8"
   },
   "outputs": [
    {
     "ename": "NotFittedError",
     "evalue": "This LearningShapelets instance is not fitted yet. Call 'fit' with appropriate arguments before using this estimator.",
     "output_type": "error",
     "traceback": [
      "\u001b[1;31m---------------------------------------------------------------------------\u001b[0m",
      "\u001b[1;31mNotFittedError\u001b[0m                            Traceback (most recent call last)",
      "Cell \u001b[1;32mIn[8], line 1\u001b[0m\n\u001b[1;32m----> 1\u001b[0m X_train2 \u001b[38;5;241m=\u001b[39m \u001b[43mshp_clf\u001b[49m\u001b[38;5;241;43m.\u001b[39;49m\u001b[43mtransform\u001b[49m\u001b[43m(\u001b[49m\u001b[43mX_train\u001b[49m\u001b[43m)\u001b[49m\n",
      "File \u001b[1;32mD:\\Python\\lib\\site-packages\\sklearn\\utils\\_set_output.py:140\u001b[0m, in \u001b[0;36m_wrap_method_output.<locals>.wrapped\u001b[1;34m(self, X, *args, **kwargs)\u001b[0m\n\u001b[0;32m    138\u001b[0m \u001b[38;5;129m@wraps\u001b[39m(f)\n\u001b[0;32m    139\u001b[0m \u001b[38;5;28;01mdef\u001b[39;00m \u001b[38;5;21mwrapped\u001b[39m(\u001b[38;5;28mself\u001b[39m, X, \u001b[38;5;241m*\u001b[39margs, \u001b[38;5;241m*\u001b[39m\u001b[38;5;241m*\u001b[39mkwargs):\n\u001b[1;32m--> 140\u001b[0m     data_to_wrap \u001b[38;5;241m=\u001b[39m f(\u001b[38;5;28mself\u001b[39m, X, \u001b[38;5;241m*\u001b[39margs, \u001b[38;5;241m*\u001b[39m\u001b[38;5;241m*\u001b[39mkwargs)\n\u001b[0;32m    141\u001b[0m     \u001b[38;5;28;01mif\u001b[39;00m \u001b[38;5;28misinstance\u001b[39m(data_to_wrap, \u001b[38;5;28mtuple\u001b[39m):\n\u001b[0;32m    142\u001b[0m         \u001b[38;5;66;03m# only wrap the first output for cross decomposition\u001b[39;00m\n\u001b[0;32m    143\u001b[0m         \u001b[38;5;28;01mreturn\u001b[39;00m (\n\u001b[0;32m    144\u001b[0m             _wrap_data_with_container(method, data_to_wrap[\u001b[38;5;241m0\u001b[39m], X, \u001b[38;5;28mself\u001b[39m),\n\u001b[0;32m    145\u001b[0m             \u001b[38;5;241m*\u001b[39mdata_to_wrap[\u001b[38;5;241m1\u001b[39m:],\n\u001b[0;32m    146\u001b[0m         )\n",
      "File \u001b[1;32mD:\\Python\\lib\\site-packages\\tslearn\\shapelets\\shapelets.py:528\u001b[0m, in \u001b[0;36mLearningShapelets.transform\u001b[1;34m(self, X)\u001b[0m\n\u001b[0;32m    515\u001b[0m \u001b[38;5;28;01mdef\u001b[39;00m \u001b[38;5;21mtransform\u001b[39m(\u001b[38;5;28mself\u001b[39m, X):\n\u001b[0;32m    516\u001b[0m \u001b[38;5;250m    \u001b[39m\u001b[38;5;124;03m\"\"\"Generate shapelet transform for a set of time series.\u001b[39;00m\n\u001b[0;32m    517\u001b[0m \n\u001b[0;32m    518\u001b[0m \u001b[38;5;124;03m    Parameters\u001b[39;00m\n\u001b[1;32m   (...)\u001b[0m\n\u001b[0;32m    526\u001b[0m \u001b[38;5;124;03m        Shapelet-Transform of the provided time series.\u001b[39;00m\n\u001b[0;32m    527\u001b[0m \u001b[38;5;124;03m    \"\"\"\u001b[39;00m\n\u001b[1;32m--> 528\u001b[0m     \u001b[43mcheck_is_fitted\u001b[49m\u001b[43m(\u001b[49m\u001b[38;5;28;43mself\u001b[39;49m\u001b[43m,\u001b[49m\u001b[43m \u001b[49m\u001b[38;5;124;43m'\u001b[39;49m\u001b[38;5;124;43m_X_fit_dims\u001b[39;49m\u001b[38;5;124;43m'\u001b[39;49m\u001b[43m)\u001b[49m\n\u001b[0;32m    529\u001b[0m     X \u001b[38;5;241m=\u001b[39m check_array(X, allow_nd\u001b[38;5;241m=\u001b[39m\u001b[38;5;28;01mTrue\u001b[39;00m, force_all_finite\u001b[38;5;241m=\u001b[39m\u001b[38;5;28;01mFalse\u001b[39;00m)\n\u001b[0;32m    530\u001b[0m     X \u001b[38;5;241m=\u001b[39m \u001b[38;5;28mself\u001b[39m\u001b[38;5;241m.\u001b[39m_preprocess_series(X)\n",
      "File \u001b[1;32mD:\\Python\\lib\\site-packages\\sklearn\\utils\\validation.py:1390\u001b[0m, in \u001b[0;36mcheck_is_fitted\u001b[1;34m(estimator, attributes, msg, all_or_any)\u001b[0m\n\u001b[0;32m   1385\u001b[0m     fitted \u001b[38;5;241m=\u001b[39m [\n\u001b[0;32m   1386\u001b[0m         v \u001b[38;5;28;01mfor\u001b[39;00m v \u001b[38;5;129;01min\u001b[39;00m \u001b[38;5;28mvars\u001b[39m(estimator) \u001b[38;5;28;01mif\u001b[39;00m v\u001b[38;5;241m.\u001b[39mendswith(\u001b[38;5;124m\"\u001b[39m\u001b[38;5;124m_\u001b[39m\u001b[38;5;124m\"\u001b[39m) \u001b[38;5;129;01mand\u001b[39;00m \u001b[38;5;129;01mnot\u001b[39;00m v\u001b[38;5;241m.\u001b[39mstartswith(\u001b[38;5;124m\"\u001b[39m\u001b[38;5;124m__\u001b[39m\u001b[38;5;124m\"\u001b[39m)\n\u001b[0;32m   1387\u001b[0m     ]\n\u001b[0;32m   1389\u001b[0m \u001b[38;5;28;01mif\u001b[39;00m \u001b[38;5;129;01mnot\u001b[39;00m fitted:\n\u001b[1;32m-> 1390\u001b[0m     \u001b[38;5;28;01mraise\u001b[39;00m NotFittedError(msg \u001b[38;5;241m%\u001b[39m {\u001b[38;5;124m\"\u001b[39m\u001b[38;5;124mname\u001b[39m\u001b[38;5;124m\"\u001b[39m: \u001b[38;5;28mtype\u001b[39m(estimator)\u001b[38;5;241m.\u001b[39m\u001b[38;5;18m__name__\u001b[39m})\n",
      "\u001b[1;31mNotFittedError\u001b[0m: This LearningShapelets instance is not fitted yet. Call 'fit' with appropriate arguments before using this estimator."
     ]
    }
   ],
   "source": [
    "X_train2 = shp_clf.transform(X_train)"
   ]
  },
  {
   "cell_type": "code",
   "execution_count": 28,
   "id": "5a7534ff-e793-46f5-a66e-1d694f2818e9",
   "metadata": {
    "execution": {
     "iopub.execute_input": "2023-06-20T20:48:15.107018Z",
     "iopub.status.busy": "2023-06-20T20:48:15.107018Z",
     "iopub.status.idle": "2023-06-20T20:48:15.119983Z",
     "shell.execute_reply": "2023-06-20T20:48:15.118985Z",
     "shell.execute_reply.started": "2023-06-20T20:48:15.107018Z"
    },
    "id": "MaZxPlKfpkoN",
    "outputId": "978da0b0-2474-4348-dc8e-7c52e9e4c075"
   },
   "outputs": [
    {
     "data": {
      "text/plain": [
       "(1716, 7)"
      ]
     },
     "execution_count": 28,
     "metadata": {},
     "output_type": "execute_result"
    }
   ],
   "source": [
    "X_train2.shape"
   ]
  },
  {
   "cell_type": "code",
   "execution_count": 29,
   "id": "3d1b8dca-7516-4b37-b39b-879149b17742",
   "metadata": {
    "execution": {
     "iopub.execute_input": "2023-06-20T20:48:31.297146Z",
     "iopub.status.busy": "2023-06-20T20:48:31.297146Z",
     "iopub.status.idle": "2023-06-20T20:48:31.306135Z",
     "shell.execute_reply": "2023-06-20T20:48:31.305129Z",
     "shell.execute_reply.started": "2023-06-20T20:48:31.297146Z"
    },
    "id": "WuiG9ztvpkoO",
    "outputId": "f7612804-a51e-49c4-fa66-213514f57470"
   },
   "outputs": [
    {
     "data": {
      "text/plain": [
       "array([[3.53272888e-03, 6.81889069e-04, 1.08080074e-01, ...,\n",
       "        2.60097869e-02, 1.87468585e-02, 6.78090379e-04],\n",
       "       [3.38563160e-03, 1.86169986e-04, 9.99013931e-02, ...,\n",
       "        2.21096333e-02, 2.23598070e-02, 1.48776383e-03],\n",
       "       [7.55271735e-03, 6.72082603e-03, 1.41179606e-01, ...,\n",
       "        4.43552546e-02, 6.44763606e-03, 9.44448810e-04],\n",
       "       ...,\n",
       "       [3.00224330e-02, 2.25757286e-02, 2.09571403e-02, ...,\n",
       "        4.83317330e-04, 9.28909108e-02, 3.99542116e-02],\n",
       "       [4.15409356e-03, 2.09920065e-04, 8.33561420e-02, ...,\n",
       "        1.46972146e-02, 3.13736647e-02, 4.37157927e-03],\n",
       "       [3.23776826e-02, 3.34740803e-02, 2.19520822e-01, ...,\n",
       "        9.76174921e-02, 5.27673168e-04, 1.79451015e-02]], dtype=float32)"
      ]
     },
     "execution_count": 29,
     "metadata": {},
     "output_type": "execute_result"
    }
   ],
   "source": [
    "X_train2"
   ]
  },
  {
   "cell_type": "code",
   "execution_count": 30,
   "id": "dc05edd9-1561-418b-bc4d-e43b4478ba03",
   "metadata": {
    "execution": {
     "iopub.execute_input": "2023-06-20T20:48:32.967606Z",
     "iopub.status.busy": "2023-06-20T20:48:32.967606Z",
     "iopub.status.idle": "2023-06-20T20:48:34.647460Z",
     "shell.execute_reply": "2023-06-20T20:48:34.646461Z",
     "shell.execute_reply.started": "2023-06-20T20:48:32.967606Z"
    },
    "id": "JEKSKv5gpkoO",
    "outputId": "bef6eaff-eeed-470e-fe29-ff74e05b493a"
   },
   "outputs": [
    {
     "name": "stdout",
     "output_type": "stream",
     "text": [
      "2/2 [==============================] - 1s 487ms/step\n"
     ]
    }
   ],
   "source": [
    "X_test2 = shp_clf.transform(X_test)"
   ]
  },
  {
   "cell_type": "code",
   "execution_count": 31,
   "id": "45fb9433-9e41-4264-8d05-a870b10e16ea",
   "metadata": {
    "execution": {
     "iopub.execute_input": "2023-06-20T20:48:35.495227Z",
     "iopub.status.busy": "2023-06-20T20:48:35.495227Z",
     "iopub.status.idle": "2023-06-20T20:48:35.501178Z",
     "shell.execute_reply": "2023-06-20T20:48:35.500180Z",
     "shell.execute_reply.started": "2023-06-20T20:48:35.495227Z"
    },
    "id": "0UEks8wCpkoO"
   },
   "outputs": [],
   "source": [
    "from sklearn.neighbors import KNeighborsClassifier"
   ]
  },
  {
   "cell_type": "code",
   "execution_count": 32,
   "id": "4ea5f630-4b37-4880-aa2a-668a3d7750ee",
   "metadata": {
    "execution": {
     "iopub.execute_input": "2023-06-20T20:48:36.733176Z",
     "iopub.status.busy": "2023-06-20T20:48:36.733176Z",
     "iopub.status.idle": "2023-06-20T20:48:36.767094Z",
     "shell.execute_reply": "2023-06-20T20:48:36.766087Z",
     "shell.execute_reply.started": "2023-06-20T20:48:36.733176Z"
    },
    "id": "jTPmij_0pkoO",
    "outputId": "c498c271-2a61-45d2-9c85-19b17ce46aa6"
   },
   "outputs": [
    {
     "data": {
      "text/html": [
       "<style>#sk-container-id-5 {color: black;background-color: white;}#sk-container-id-5 pre{padding: 0;}#sk-container-id-5 div.sk-toggleable {background-color: white;}#sk-container-id-5 label.sk-toggleable__label {cursor: pointer;display: block;width: 100%;margin-bottom: 0;padding: 0.3em;box-sizing: border-box;text-align: center;}#sk-container-id-5 label.sk-toggleable__label-arrow:before {content: \"▸\";float: left;margin-right: 0.25em;color: #696969;}#sk-container-id-5 label.sk-toggleable__label-arrow:hover:before {color: black;}#sk-container-id-5 div.sk-estimator:hover label.sk-toggleable__label-arrow:before {color: black;}#sk-container-id-5 div.sk-toggleable__content {max-height: 0;max-width: 0;overflow: hidden;text-align: left;background-color: #f0f8ff;}#sk-container-id-5 div.sk-toggleable__content pre {margin: 0.2em;color: black;border-radius: 0.25em;background-color: #f0f8ff;}#sk-container-id-5 input.sk-toggleable__control:checked~div.sk-toggleable__content {max-height: 200px;max-width: 100%;overflow: auto;}#sk-container-id-5 input.sk-toggleable__control:checked~label.sk-toggleable__label-arrow:before {content: \"▾\";}#sk-container-id-5 div.sk-estimator input.sk-toggleable__control:checked~label.sk-toggleable__label {background-color: #d4ebff;}#sk-container-id-5 div.sk-label input.sk-toggleable__control:checked~label.sk-toggleable__label {background-color: #d4ebff;}#sk-container-id-5 input.sk-hidden--visually {border: 0;clip: rect(1px 1px 1px 1px);clip: rect(1px, 1px, 1px, 1px);height: 1px;margin: -1px;overflow: hidden;padding: 0;position: absolute;width: 1px;}#sk-container-id-5 div.sk-estimator {font-family: monospace;background-color: #f0f8ff;border: 1px dotted black;border-radius: 0.25em;box-sizing: border-box;margin-bottom: 0.5em;}#sk-container-id-5 div.sk-estimator:hover {background-color: #d4ebff;}#sk-container-id-5 div.sk-parallel-item::after {content: \"\";width: 100%;border-bottom: 1px solid gray;flex-grow: 1;}#sk-container-id-5 div.sk-label:hover label.sk-toggleable__label {background-color: #d4ebff;}#sk-container-id-5 div.sk-serial::before {content: \"\";position: absolute;border-left: 1px solid gray;box-sizing: border-box;top: 0;bottom: 0;left: 50%;z-index: 0;}#sk-container-id-5 div.sk-serial {display: flex;flex-direction: column;align-items: center;background-color: white;padding-right: 0.2em;padding-left: 0.2em;position: relative;}#sk-container-id-5 div.sk-item {position: relative;z-index: 1;}#sk-container-id-5 div.sk-parallel {display: flex;align-items: stretch;justify-content: center;background-color: white;position: relative;}#sk-container-id-5 div.sk-item::before, #sk-container-id-5 div.sk-parallel-item::before {content: \"\";position: absolute;border-left: 1px solid gray;box-sizing: border-box;top: 0;bottom: 0;left: 50%;z-index: -1;}#sk-container-id-5 div.sk-parallel-item {display: flex;flex-direction: column;z-index: 1;position: relative;background-color: white;}#sk-container-id-5 div.sk-parallel-item:first-child::after {align-self: flex-end;width: 50%;}#sk-container-id-5 div.sk-parallel-item:last-child::after {align-self: flex-start;width: 50%;}#sk-container-id-5 div.sk-parallel-item:only-child::after {width: 0;}#sk-container-id-5 div.sk-dashed-wrapped {border: 1px dashed gray;margin: 0 0.4em 0.5em 0.4em;box-sizing: border-box;padding-bottom: 0.4em;background-color: white;}#sk-container-id-5 div.sk-label label {font-family: monospace;font-weight: bold;display: inline-block;line-height: 1.2em;}#sk-container-id-5 div.sk-label-container {text-align: center;}#sk-container-id-5 div.sk-container {/* jupyter's `normalize.less` sets `[hidden] { display: none; }` but bootstrap.min.css set `[hidden] { display: none !important; }` so we also need the `!important` here to be able to override the default hidden behavior on the sphinx rendered scikit-learn.org. See: https://github.com/scikit-learn/scikit-learn/issues/21755 */display: inline-block !important;position: relative;}#sk-container-id-5 div.sk-text-repr-fallback {display: none;}</style><div id=\"sk-container-id-5\" class=\"sk-top-container\"><div class=\"sk-text-repr-fallback\"><pre>KNeighborsClassifier()</pre><b>In a Jupyter environment, please rerun this cell to show the HTML representation or trust the notebook. <br />On GitHub, the HTML representation is unable to render, please try loading this page with nbviewer.org.</b></div><div class=\"sk-container\" hidden><div class=\"sk-item\"><div class=\"sk-estimator sk-toggleable\"><input class=\"sk-toggleable__control sk-hidden--visually\" id=\"sk-estimator-id-5\" type=\"checkbox\" checked><label for=\"sk-estimator-id-5\" class=\"sk-toggleable__label sk-toggleable__label-arrow\">KNeighborsClassifier</label><div class=\"sk-toggleable__content\"><pre>KNeighborsClassifier()</pre></div></div></div></div></div>"
      ],
      "text/plain": [
       "KNeighborsClassifier()"
      ]
     },
     "execution_count": 32,
     "metadata": {},
     "output_type": "execute_result"
    }
   ],
   "source": [
    "clf = KNeighborsClassifier(n_neighbors=5, weights='uniform')\n",
    "clf.fit(X_train2, y_train)"
   ]
  },
  {
   "cell_type": "code",
   "execution_count": 33,
   "id": "eea24eaf-edc3-4d9a-9edb-321b2781917f",
   "metadata": {
    "execution": {
     "iopub.execute_input": "2023-06-20T20:48:38.360650Z",
     "iopub.status.busy": "2023-06-20T20:48:38.360650Z",
     "iopub.status.idle": "2023-06-20T20:48:38.411513Z",
     "shell.execute_reply": "2023-06-20T20:48:38.410516Z",
     "shell.execute_reply.started": "2023-06-20T20:48:38.360650Z"
    },
    "id": "k60fe41PpkoP",
    "outputId": "fb59293a-8ac7-46d3-cbb8-4d6523b4b609"
   },
   "outputs": [
    {
     "name": "stdout",
     "output_type": "stream",
     "text": [
      "Accuracy 0.10869565217391304\n",
      "F1-score [0.11398964 0.16783217 0.1027668  0.12       0.1        0.09302326\n",
      " 0.04444444 0.        ]\n",
      "              precision    recall  f1-score   support\n",
      "\n",
      "           0       0.08      0.20      0.11        56\n",
      "           1       0.14      0.21      0.17       113\n",
      "           2       0.09      0.12      0.10       113\n",
      "           3       0.14      0.11      0.12       113\n",
      "           4       0.11      0.09      0.10       113\n",
      "           5       0.14      0.07      0.09       113\n",
      "           6       0.06      0.03      0.04        58\n",
      "           7       0.00      0.00      0.00        57\n",
      "\n",
      "    accuracy                           0.11       736\n",
      "   macro avg       0.10      0.10      0.09       736\n",
      "weighted avg       0.11      0.11      0.10       736\n",
      "\n"
     ]
    }
   ],
   "source": [
    "y_pred = clf.predict(X_test2)\n",
    "\n",
    "print('Accuracy %s' % accuracy_score(y_test, y_pred))\n",
    "print('F1-score %s' % f1_score(y_test, y_pred, average=None))\n",
    "print(classification_report(y_test, y_pred))"
   ]
  },
  {
   "cell_type": "code",
   "execution_count": 34,
   "id": "49471012-97b3-4fc4-8e5c-0439856d91bb",
   "metadata": {
    "execution": {
     "iopub.execute_input": "2023-06-20T20:48:40.328287Z",
     "iopub.status.busy": "2023-06-20T20:48:40.327290Z",
     "iopub.status.idle": "2023-06-20T20:48:40.377156Z",
     "shell.execute_reply": "2023-06-20T20:48:40.376162Z",
     "shell.execute_reply.started": "2023-06-20T20:48:40.328287Z"
    },
    "id": "0fp6tSmWpkoP",
    "outputId": "1046d5c7-6357-4c1c-e06e-046a92accb56"
   },
   "outputs": [
    {
     "name": "stdout",
     "output_type": "stream",
     "text": [
      "Accuracy 0.14266304347826086\n",
      "F1-score [0.03333333 0.17647059 0.24907063 0.03773585 0.07843137 0.05970149\n",
      " 0.04651163 0.        ]\n",
      "              precision    recall  f1-score   support\n",
      "\n",
      "           0       0.25      0.02      0.03        56\n",
      "           1       0.17      0.19      0.18       113\n",
      "           2       0.16      0.59      0.25       113\n",
      "           3       0.07      0.03      0.04       113\n",
      "           4       0.15      0.05      0.08       113\n",
      "           5       0.19      0.04      0.06       113\n",
      "           6       0.04      0.05      0.05        58\n",
      "           7       0.00      0.00      0.00        57\n",
      "\n",
      "    accuracy                           0.14       736\n",
      "   macro avg       0.13      0.12      0.09       736\n",
      "weighted avg       0.13      0.14      0.10       736\n",
      "\n"
     ]
    }
   ],
   "source": [
    "clf = DecisionTreeClassifier(max_depth=8, random_state=42)\n",
    "clf.fit(X_train2, y_train)\n",
    "\n",
    "y_pred = clf.predict(X_test2)\n",
    "\n",
    "print('Accuracy %s' % accuracy_score(y_test, y_pred))\n",
    "print('F1-score %s' % f1_score(y_test, y_pred, average=None))\n",
    "print(classification_report(y_test, y_pred))"
   ]
  },
  {
   "cell_type": "markdown",
   "id": "081520c5-8e8b-49b8-9971-c745ca569f6e",
   "metadata": {
    "id": "90yFnXYYpkoP"
   },
   "source": [
    "## Feature-based Classifier"
   ]
  },
  {
   "cell_type": "code",
   "execution_count": 24,
   "id": "395276db-a338-45d8-bce8-7f4b5e5fcf04",
   "metadata": {
    "execution": {
     "iopub.execute_input": "2023-06-20T19:05:40.954728Z",
     "iopub.status.busy": "2023-06-20T19:05:40.954728Z",
     "iopub.status.idle": "2023-06-20T19:05:40.962744Z",
     "shell.execute_reply": "2023-06-20T19:05:40.961743Z",
     "shell.execute_reply.started": "2023-06-20T19:05:40.954728Z"
    },
    "id": "HOV_0xXvpkoP"
   },
   "outputs": [],
   "source": [
    "import scipy.stats as stats"
   ]
  },
  {
   "cell_type": "code",
   "execution_count": 25,
   "id": "ea989e42-d57c-4147-9b7f-941ff4713fdc",
   "metadata": {
    "execution": {
     "iopub.execute_input": "2023-06-20T19:05:42.860578Z",
     "iopub.status.busy": "2023-06-20T19:05:42.860578Z",
     "iopub.status.idle": "2023-06-20T19:05:42.884515Z",
     "shell.execute_reply": "2023-06-20T19:05:42.882933Z",
     "shell.execute_reply.started": "2023-06-20T19:05:42.860578Z"
    },
    "id": "c5GR1KqbpkoQ"
   },
   "outputs": [],
   "source": [
    "def calculate_features(values):\n",
    "    features = {\n",
    "        'avg': np.mean(values),\n",
    "        'std': np.std(values),\n",
    "        'var': np.var(values),\n",
    "        'med': np.median(values),\n",
    "        '10p': np.percentile(values, 10),\n",
    "        '25p': np.percentile(values, 25),\n",
    "        '50p': np.percentile(values, 50),\n",
    "        '75p': np.percentile(values, 75),\n",
    "        '90p': np.percentile(values, 90),\n",
    "        'iqr': np.percentile(values, 75) - np.percentile(values, 25),\n",
    "        'cov': 1.0 * np.mean(values) / np.std(values),\n",
    "        'skw': stats.skew(values),\n",
    "        'kur': stats.kurtosis(values)\n",
    "    }\n",
    "\n",
    "    return features"
   ]
  },
  {
   "cell_type": "code",
   "execution_count": 26,
   "id": "a7850c99-56a3-420f-b8ea-10d0a1b5c14c",
   "metadata": {
    "execution": {
     "iopub.execute_input": "2023-06-20T19:05:46.329735Z",
     "iopub.status.busy": "2023-06-20T19:05:46.328738Z",
     "iopub.status.idle": "2023-06-20T19:05:49.782174Z",
     "shell.execute_reply": "2023-06-20T19:05:49.781160Z",
     "shell.execute_reply.started": "2023-06-20T19:05:46.329735Z"
    },
    "id": "ZNd7C48ApkoQ"
   },
   "outputs": [],
   "source": [
    "X_train3 = np.array([list(calculate_features(x).values()) for x in X_train])"
   ]
  },
  {
   "cell_type": "code",
   "execution_count": 27,
   "id": "f13d24e6-2ed2-4f18-8d69-ed7d75daa7c3",
   "metadata": {
    "execution": {
     "iopub.execute_input": "2023-06-20T19:05:49.785153Z",
     "iopub.status.busy": "2023-06-20T19:05:49.784155Z",
     "iopub.status.idle": "2023-06-20T19:05:49.798120Z",
     "shell.execute_reply": "2023-06-20T19:05:49.797120Z",
     "shell.execute_reply.started": "2023-06-20T19:05:49.785153Z"
    },
    "id": "7mkmVDb2pkoQ",
    "outputId": "4b261462-8bf8-479c-ca3d-53b742f4b9ce"
   },
   "outputs": [
    {
     "data": {
      "text/plain": [
       "(1716, 13)"
      ]
     },
     "execution_count": 27,
     "metadata": {},
     "output_type": "execute_result"
    }
   ],
   "source": [
    "X_train3.shape"
   ]
  },
  {
   "cell_type": "code",
   "execution_count": 28,
   "id": "a41f7414-3160-498e-b494-2775759110a2",
   "metadata": {
    "execution": {
     "iopub.execute_input": "2023-06-20T19:05:49.801110Z",
     "iopub.status.busy": "2023-06-20T19:05:49.800113Z",
     "iopub.status.idle": "2023-06-20T19:05:49.814102Z",
     "shell.execute_reply": "2023-06-20T19:05:49.813105Z",
     "shell.execute_reply.started": "2023-06-20T19:05:49.801110Z"
    },
    "id": "ijH4cLCCpkoQ",
    "outputId": "4d8969a6-5b19-40ed-f3fb-e7d86268d703"
   },
   "outputs": [
    {
     "data": {
      "text/plain": [
       "array([[ 2.40060149e-06,  1.67234119e-03,  2.79672507e-06, ...,\n",
       "         1.43547352e-03,  9.14907781e-02,  8.96240632e+00],\n",
       "       [ 5.31036763e-07,  9.46733917e-03,  8.96305110e-05, ...,\n",
       "         5.60914481e-05,  1.88388516e-01,  4.82588967e+00],\n",
       "       [ 2.25847604e-06,  1.20858479e-04,  1.46067719e-08, ...,\n",
       "         1.86869475e-02,  1.01646615e+01,  4.16394985e+02],\n",
       "       ...,\n",
       "       [-1.08142449e-06,  1.58144238e-03,  2.50095999e-06, ...,\n",
       "        -6.83821620e-04, -3.87241442e-02,  1.38437894e+01],\n",
       "       [ 5.26218770e-05,  6.58299817e-03,  4.33358649e-05, ...,\n",
       "         7.99360347e-03, -2.91228194e+00,  3.12241105e+01],\n",
       "       [-2.03391126e-06,  3.47616104e-04,  1.20836955e-07, ...,\n",
       "        -5.85102715e-03, -3.14561948e+00,  3.96349358e+01]])"
      ]
     },
     "execution_count": 28,
     "metadata": {},
     "output_type": "execute_result"
    }
   ],
   "source": [
    "X_train3"
   ]
  },
  {
   "cell_type": "code",
   "execution_count": 29,
   "id": "e0d377d8-4424-4ac4-9a7a-fd38cbb9a8c9",
   "metadata": {
    "execution": {
     "iopub.execute_input": "2023-06-20T19:05:52.756718Z",
     "iopub.status.busy": "2023-06-20T19:05:52.756718Z",
     "iopub.status.idle": "2023-06-20T19:05:54.258022Z",
     "shell.execute_reply": "2023-06-20T19:05:54.256322Z",
     "shell.execute_reply.started": "2023-06-20T19:05:52.756718Z"
    },
    "id": "FbVKnw1XpkoR"
   },
   "outputs": [],
   "source": [
    "X_test3 = np.array([list(calculate_features(x).values()) for x in X_test])"
   ]
  },
  {
   "cell_type": "code",
   "execution_count": 30,
   "id": "f8d5a511-960d-434b-928a-afee7e7ed86e",
   "metadata": {
    "execution": {
     "iopub.execute_input": "2023-06-20T19:05:54.260027Z",
     "iopub.status.busy": "2023-06-20T19:05:54.259049Z",
     "iopub.status.idle": "2023-06-20T19:05:54.304924Z",
     "shell.execute_reply": "2023-06-20T19:05:54.303935Z",
     "shell.execute_reply.started": "2023-06-20T19:05:54.260027Z"
    },
    "id": "evcXInlnpkoR",
    "outputId": "10ae09ea-c940-4d2c-e510-b83d42678547"
   },
   "outputs": [
    {
     "name": "stdout",
     "output_type": "stream",
     "text": [
      "Accuracy 0.13994565217391305\n",
      "F1-score [0.         0.02797203 0.01639344 0.25572005 0.03305785 0.04225352\n",
      " 0.         0.        ]\n",
      "              precision    recall  f1-score   support\n",
      "\n",
      "           0       0.00      0.00      0.00        56\n",
      "           1       0.07      0.02      0.03       113\n",
      "           2       0.11      0.01      0.02       113\n",
      "           3       0.15      0.84      0.26       113\n",
      "           4       0.25      0.02      0.03       113\n",
      "           5       0.10      0.03      0.04       113\n",
      "           6       0.00      0.00      0.00        58\n",
      "           7       0.00      0.00      0.00        57\n",
      "\n",
      "    accuracy                           0.14       736\n",
      "   macro avg       0.09      0.11      0.05       736\n",
      "weighted avg       0.10      0.14      0.06       736\n",
      "\n"
     ]
    }
   ],
   "source": [
    "clf = DecisionTreeClassifier(max_depth=8, random_state=42)\n",
    "clf.fit(X_train3, y_train)\n",
    "\n",
    "y_pred = clf.predict(X_test3)\n",
    "\n",
    "print('Accuracy %s' % accuracy_score(y_test, y_pred))\n",
    "print('F1-score %s' % f1_score(y_test, y_pred, average=None))\n",
    "print(classification_report(y_test, y_pred))"
   ]
  },
  {
   "cell_type": "markdown",
   "id": "a94058a7-6c6d-4659-be92-c6ee4e6dc25c",
   "metadata": {
    "id": "bwx-pRFXpkoR"
   },
   "source": [
    "## Time Series Classifier"
   ]
  },
  {
   "cell_type": "code",
   "execution_count": 17,
   "id": "446d219b-6ac3-4a07-b02e-736f98fbc421",
   "metadata": {
    "execution": {
     "iopub.execute_input": "2023-06-19T10:57:12.839855Z",
     "iopub.status.busy": "2023-06-19T10:57:12.839855Z",
     "iopub.status.idle": "2023-06-19T10:57:20.008610Z",
     "shell.execute_reply": "2023-06-19T10:57:20.007611Z",
     "shell.execute_reply.started": "2023-06-19T10:57:12.839855Z"
    },
    "id": "aCPkwfdipkoS",
    "outputId": "170ba5cb-4bd1-4fc7-84b1-5f404fb592ab"
   },
   "outputs": [
    {
     "name": "stdout",
     "output_type": "stream",
     "text": [
      "Accuracy 0.1331521739130435\n",
      "F1-score [0.         0.101983   0.         0.27777778 0.         0.\n",
      " 0.         0.        ]\n",
      "              precision    recall  f1-score   support\n",
      "\n",
      "           0       0.00      0.00      0.00        56\n",
      "           1       0.07      0.16      0.10       113\n",
      "           2       0.00      0.00      0.00       113\n",
      "           3       0.17      0.71      0.28       113\n",
      "           4       0.00      0.00      0.00       113\n",
      "           5       0.00      0.00      0.00       113\n",
      "           6       0.00      0.00      0.00        57\n",
      "           7       0.00      0.00      0.00        58\n",
      "\n",
      "    accuracy                           0.13       736\n",
      "   macro avg       0.03      0.11      0.05       736\n",
      "weighted avg       0.04      0.13      0.06       736\n",
      "\n"
     ]
    },
    {
     "name": "stderr",
     "output_type": "stream",
     "text": [
      "D:\\Python\\lib\\site-packages\\sklearn\\metrics\\_classification.py:1344: UndefinedMetricWarning: Precision and F-score are ill-defined and being set to 0.0 in labels with no predicted samples. Use `zero_division` parameter to control this behavior.\n",
      "  _warn_prf(average, modifier, msg_start, len(result))\n",
      "D:\\Python\\lib\\site-packages\\sklearn\\metrics\\_classification.py:1344: UndefinedMetricWarning: Precision and F-score are ill-defined and being set to 0.0 in labels with no predicted samples. Use `zero_division` parameter to control this behavior.\n",
      "  _warn_prf(average, modifier, msg_start, len(result))\n",
      "D:\\Python\\lib\\site-packages\\sklearn\\metrics\\_classification.py:1344: UndefinedMetricWarning: Precision and F-score are ill-defined and being set to 0.0 in labels with no predicted samples. Use `zero_division` parameter to control this behavior.\n",
      "  _warn_prf(average, modifier, msg_start, len(result))\n"
     ]
    }
   ],
   "source": [
    "clf = KNeighborsClassifier(n_neighbors=60, weights='uniform')\n",
    "clf.fit(X_train, y_train)\n",
    "\n",
    "y_pred = clf.predict(X_test)\n",
    "\n",
    "print('Accuracy %s' % accuracy_score(y_test, y_pred))\n",
    "print('F1-score %s' % f1_score(y_test, y_pred, average=None))\n",
    "print(classification_report(y_test, y_pred))"
   ]
  },
  {
   "cell_type": "code",
   "execution_count": 18,
   "id": "fde669c4-d495-4405-b89e-aaf8776516d9",
   "metadata": {
    "execution": {
     "iopub.execute_input": "2023-06-19T10:57:23.747756Z",
     "iopub.status.busy": "2023-06-19T10:57:23.746794Z",
     "iopub.status.idle": "2023-06-19T11:00:50.269734Z",
     "shell.execute_reply": "2023-06-19T11:00:50.268721Z",
     "shell.execute_reply.started": "2023-06-19T10:57:23.747756Z"
    },
    "id": "KuPWFSPupkoS",
    "outputId": "dc89fe8e-fbef-4d40-8ff4-fe420359d136"
   },
   "outputs": [
    {
     "name": "stdout",
     "output_type": "stream",
     "text": [
      "Accuracy 0.21467391304347827\n",
      "F1-score [0.         0.35955056 0.23673469 0.06666667 0.22222222 0.18930041\n",
      " 0.         0.02531646]\n",
      "              precision    recall  f1-score   support\n",
      "\n",
      "           0       0.00      0.00      0.00        56\n",
      "           1       0.24      0.71      0.36       113\n",
      "           2       0.22      0.26      0.24       113\n",
      "           3       0.14      0.04      0.07       113\n",
      "           4       0.30      0.18      0.22       113\n",
      "           5       0.18      0.20      0.19       113\n",
      "           6       0.00      0.00      0.00        57\n",
      "           7       0.05      0.02      0.03        58\n",
      "\n",
      "    accuracy                           0.21       736\n",
      "   macro avg       0.14      0.18      0.14       736\n",
      "weighted avg       0.17      0.21      0.17       736\n",
      "\n"
     ]
    }
   ],
   "source": [
    "clf = DecisionTreeClassifier(max_depth=8, random_state=42)\n",
    "clf.fit(X_train, y_train)\n",
    "\n",
    "y_pred = clf.predict(X_test)\n",
    "\n",
    "print('Accuracy %s' % accuracy_score(y_test, y_pred))\n",
    "print('F1-score %s' % f1_score(y_test, y_pred, average=None))\n",
    "print(classification_report(y_test, y_pred))"
   ]
  },
  {
   "cell_type": "markdown",
   "id": "1e1bd574-3de1-42ff-9586-68fde8ce5087",
   "metadata": {
    "execution": {
     "iopub.execute_input": "2023-06-19T11:08:07.057535Z",
     "iopub.status.busy": "2023-06-19T11:08:07.057535Z",
     "iopub.status.idle": "2023-06-19T11:08:07.072495Z",
     "shell.execute_reply": "2023-06-19T11:08:07.071498Z",
     "shell.execute_reply.started": "2023-06-19T11:08:07.057535Z"
    }
   },
   "source": [
    "## KNN with DTW"
   ]
  },
  {
   "cell_type": "code",
   "execution_count": 19,
   "id": "1a8f753e-f1ae-4808-b636-430a51e52518",
   "metadata": {
    "execution": {
     "iopub.execute_input": "2023-06-19T11:05:30.554595Z",
     "iopub.status.busy": "2023-06-19T11:05:30.554595Z",
     "iopub.status.idle": "2023-06-19T11:05:30.560578Z",
     "shell.execute_reply": "2023-06-19T11:05:30.559582Z",
     "shell.execute_reply.started": "2023-06-19T11:05:30.554595Z"
    },
    "id": "7xzPvb5UpkoS"
   },
   "outputs": [],
   "source": [
    "from pyts.classification import KNeighborsClassifier"
   ]
  },
  {
   "cell_type": "code",
   "execution_count": null,
   "id": "e25d90cb-e49e-4b5a-8310-9e89c73be3de",
   "metadata": {
    "execution": {
     "iopub.execute_input": "2023-06-18T17:51:04.262267Z",
     "iopub.status.busy": "2023-06-18T17:51:04.261269Z"
    },
    "id": "V2AnMoCrpkoS",
    "outputId": "6cf11bce-9eaa-4c90-c6be-8701886a9e2a"
   },
   "outputs": [
    {
     "data": {
      "application/vnd.jupyter.widget-view+json": {
       "model_id": "2dec2404a94345b9974bdc6cef863536",
       "version_major": 2,
       "version_minor": 0
      },
      "text/plain": [
       "  0%|          | 0/736 [00:00<?, ?it/s]"
      ]
     },
     "metadata": {},
     "output_type": "display_data"
    }
   ],
   "source": [
    "clf = KNeighborsClassifier(n_neighbors=30, metric='dtw_sakoechiba',n_jobs=-1)\n",
    "clf.fit(X_train, y_train)\n",
    "\n",
    "\n",
    "y_pred = list()\n",
    "for ts in tqdm(X_test):\n",
    "    ts_pred = clf.predict(ts.reshape(1,-1))\n",
    "    y_pred.append(ts_pred)\n",
    "\n",
    "print('Accuracy %s' % accuracy_score(y_test, y_pred))\n",
    "print('F1-score %s' % f1_score(y_test, y_pred, average=None))\n",
    "print(classification_report(y_test, y_pred))"
   ]
  },
  {
   "cell_type": "markdown",
   "id": "915be2d3-6f53-4942-af85-73fbe6ab5777",
   "metadata": {
    "id": "OWCfDdospkoT"
   },
   "source": [
    "## CNN Classifier"
   ]
  },
  {
   "cell_type": "code",
   "execution_count": 6,
   "id": "4ff3ce69-cfbc-4a51-af2a-09f95b5b0b7d",
   "metadata": {
    "execution": {
     "iopub.execute_input": "2023-06-19T11:10:54.637368Z",
     "iopub.status.busy": "2023-06-19T11:10:54.637368Z",
     "iopub.status.idle": "2023-06-19T11:11:00.052708Z",
     "shell.execute_reply": "2023-06-19T11:11:00.051704Z",
     "shell.execute_reply.started": "2023-06-19T11:10:54.637368Z"
    },
    "id": "k3XrWmxlpkoT"
   },
   "outputs": [],
   "source": [
    "from keras.models import Sequential\n",
    "from keras.layers import Dense, Dropout, GlobalAveragePooling1D\n",
    "from keras.layers import Conv1D, Activation, Conv1D, BatchNormalization"
   ]
  },
  {
   "cell_type": "code",
   "execution_count": 7,
   "id": "797598e5-c864-4ed0-868a-a8225778de03",
   "metadata": {
    "execution": {
     "iopub.execute_input": "2023-06-19T11:11:00.053707Z",
     "iopub.status.busy": "2023-06-19T11:11:00.053707Z",
     "iopub.status.idle": "2023-06-19T11:11:00.068667Z",
     "shell.execute_reply": "2023-06-19T11:11:00.067694Z",
     "shell.execute_reply.started": "2023-06-19T11:11:00.053707Z"
    },
    "id": "ApM9qSj-pkoT"
   },
   "outputs": [],
   "source": [
    "def build_simple_cnn(n_timesteps, n_outputs):\n",
    "    model = Sequential()\n",
    "    \n",
    "    model.add(Conv1D(filters=16, kernel_size=8, activation='relu', input_shape=(n_timesteps, 1)))\n",
    "    model.add(BatchNormalization())\n",
    "    model.add(Activation('relu'))\n",
    "    \n",
    "    model.add(Dropout(0.3))\n",
    "    \n",
    "    model.add(Conv1D(filters=32, kernel_size=5, activation='relu'))\n",
    "    model.add(BatchNormalization())\n",
    "    model.add(Activation('relu'))\n",
    "    \n",
    "    model.add(Dropout(0.3))\n",
    "    \n",
    "    model.add(Conv1D(filters=64, kernel_size=3, activation='relu'))\n",
    "    model.add(BatchNormalization())\n",
    "    model.add(Activation('relu'))\n",
    "    \n",
    "    model.add(Dropout(0.3))\n",
    "    \n",
    "    model.add(GlobalAveragePooling1D())\n",
    "    \n",
    "    model.add(Dense(n_outputs, activation='sigmoid'))\n",
    "    model.compile(loss='sparse_categorical_crossentropy', optimizer='adam', metrics=['accuracy'])\n",
    "    \n",
    "    return model"
   ]
  },
  {
   "cell_type": "code",
   "execution_count": 8,
   "id": "e0a3c7c3-bfc8-4eca-a89c-9b343f4cb799",
   "metadata": {
    "execution": {
     "iopub.execute_input": "2023-06-19T11:11:00.069664Z",
     "iopub.status.busy": "2023-06-19T11:11:00.069664Z",
     "iopub.status.idle": "2023-06-19T11:11:00.100601Z",
     "shell.execute_reply": "2023-06-19T11:11:00.099618Z",
     "shell.execute_reply.started": "2023-06-19T11:11:00.069664Z"
    },
    "id": "wmnOwynQpkoU",
    "outputId": "5e9df287-c309-41df-a55c-1dfe47593dac"
   },
   "outputs": [
    {
     "name": "stdout",
     "output_type": "stream",
     "text": [
      "TIMESTEPS:  4096\n",
      "N. LABELS:  8\n"
     ]
    }
   ],
   "source": [
    "X_train_cnn = X_train.reshape((X_train.shape[0], X_train.shape[1], 1))\n",
    "X_test_cnn = X_test.reshape((X_test.shape[0], X_test.shape[1], 1))\n",
    "\n",
    "X_train_cnn, X_val_cnn, y_train_cnn, y_val_cnn = train_test_split(X_train_cnn, y_train, test_size=0.2, stratify=y_train)\n",
    "\n",
    "n_timesteps, n_outputs, n_features = X_train_cnn.shape[1], len(np.unique(y_train_cnn)), 1 \n",
    "print(\"TIMESTEPS: \", n_timesteps)\n",
    "print(\"N. LABELS: \", n_outputs)"
   ]
  },
  {
   "cell_type": "code",
   "execution_count": 9,
   "id": "0b46eb4a-c3c2-4c09-9cc2-83aa2806089a",
   "metadata": {
    "execution": {
     "iopub.execute_input": "2023-06-19T11:11:00.103608Z",
     "iopub.status.busy": "2023-06-19T11:11:00.103608Z",
     "iopub.status.idle": "2023-06-19T11:11:00.584038Z",
     "shell.execute_reply": "2023-06-19T11:11:00.583047Z",
     "shell.execute_reply.started": "2023-06-19T11:11:00.103608Z"
    },
    "id": "oM2bOVwSpkoU"
   },
   "outputs": [],
   "source": [
    "cnn = build_simple_cnn(n_timesteps, n_outputs)"
   ]
  },
  {
   "cell_type": "code",
   "execution_count": 10,
   "id": "22d1151a-3539-4294-8fca-65abec6b359c",
   "metadata": {
    "execution": {
     "iopub.execute_input": "2023-06-19T11:11:01.210500Z",
     "iopub.status.busy": "2023-06-19T11:11:01.210500Z",
     "iopub.status.idle": "2023-06-19T11:11:01.266314Z",
     "shell.execute_reply": "2023-06-19T11:11:01.265315Z",
     "shell.execute_reply.started": "2023-06-19T11:11:01.210500Z"
    },
    "id": "e3pGbY5GpkoU",
    "outputId": "50c196b7-5816-4a19-c9b4-ae5e4dbc9982"
   },
   "outputs": [
    {
     "name": "stdout",
     "output_type": "stream",
     "text": [
      "Model: \"sequential\"\n",
      "_________________________________________________________________\n",
      " Layer (type)                Output Shape              Param #   \n",
      "=================================================================\n",
      " conv1d (Conv1D)             (None, 4089, 16)          144       \n",
      "                                                                 \n",
      " batch_normalization (BatchN  (None, 4089, 16)         64        \n",
      " ormalization)                                                   \n",
      "                                                                 \n",
      " activation (Activation)     (None, 4089, 16)          0         \n",
      "                                                                 \n",
      " dropout (Dropout)           (None, 4089, 16)          0         \n",
      "                                                                 \n",
      " conv1d_1 (Conv1D)           (None, 4085, 32)          2592      \n",
      "                                                                 \n",
      " batch_normalization_1 (Batc  (None, 4085, 32)         128       \n",
      " hNormalization)                                                 \n",
      "                                                                 \n",
      " activation_1 (Activation)   (None, 4085, 32)          0         \n",
      "                                                                 \n",
      " dropout_1 (Dropout)         (None, 4085, 32)          0         \n",
      "                                                                 \n",
      " conv1d_2 (Conv1D)           (None, 4083, 64)          6208      \n",
      "                                                                 \n",
      " batch_normalization_2 (Batc  (None, 4083, 64)         256       \n",
      " hNormalization)                                                 \n",
      "                                                                 \n",
      " activation_2 (Activation)   (None, 4083, 64)          0         \n",
      "                                                                 \n",
      " dropout_2 (Dropout)         (None, 4083, 64)          0         \n",
      "                                                                 \n",
      " global_average_pooling1d (G  (None, 64)               0         \n",
      " lobalAveragePooling1D)                                          \n",
      "                                                                 \n",
      " dense (Dense)               (None, 8)                 520       \n",
      "                                                                 \n",
      "=================================================================\n",
      "Total params: 9,912\n",
      "Trainable params: 9,688\n",
      "Non-trainable params: 224\n",
      "_________________________________________________________________\n"
     ]
    }
   ],
   "source": [
    "cnn.summary()"
   ]
  },
  {
   "cell_type": "code",
   "execution_count": 11,
   "id": "1c71ae60-4733-48d8-8192-e857612df665",
   "metadata": {
    "execution": {
     "iopub.execute_input": "2023-06-19T11:11:03.163496Z",
     "iopub.status.busy": "2023-06-19T11:11:03.163496Z",
     "iopub.status.idle": "2023-06-19T11:11:03.183443Z",
     "shell.execute_reply": "2023-06-19T11:11:03.182445Z",
     "shell.execute_reply.started": "2023-06-19T11:11:03.163496Z"
    },
    "id": "OUB8hChFpkoV"
   },
   "outputs": [],
   "source": [
    "from keras.callbacks import ReduceLROnPlateau, ModelCheckpoint"
   ]
  },
  {
   "cell_type": "code",
   "execution_count": 12,
   "id": "3df3b77c-dd07-47fc-9116-81c7da931a55",
   "metadata": {
    "execution": {
     "iopub.execute_input": "2023-06-19T11:11:04.075260Z",
     "iopub.status.busy": "2023-06-19T11:11:04.074263Z",
     "iopub.status.idle": "2023-06-19T11:11:04.085241Z",
     "shell.execute_reply": "2023-06-19T11:11:04.084238Z",
     "shell.execute_reply.started": "2023-06-19T11:11:04.075260Z"
    },
    "id": "8hlW9jiIpkoV"
   },
   "outputs": [],
   "source": [
    "rlr = ReduceLROnPlateau(monitor='loss', factor=0.5, patience=50, min_lr=0.0001)\n",
    "mc = ModelCheckpoint('best_model_cnn.h5', monitor='val_loss', save_best_only=True)\n",
    "\n",
    "callbacks = [rlr, mc]\n",
    "\n",
    "batch_size = 16\n",
    "mini_batch_size = int(min(X_train_cnn.shape[0]/10, batch_size))"
   ]
  },
  {
   "cell_type": "code",
   "execution_count": 13,
   "id": "47649803-3734-4b70-889e-40cfe08bf6db",
   "metadata": {
    "execution": {
     "iopub.execute_input": "2023-06-19T11:11:05.841256Z",
     "iopub.status.busy": "2023-06-19T11:11:05.841256Z",
     "iopub.status.idle": "2023-06-19T11:13:05.163721Z",
     "shell.execute_reply": "2023-06-19T11:13:05.163045Z",
     "shell.execute_reply.started": "2023-06-19T11:11:05.841256Z"
    },
    "id": "3FVa6uDSpkoV",
    "outputId": "b7d573d0-51c8-48e9-ee32-a66509202bbd"
   },
   "outputs": [
    {
     "name": "stdout",
     "output_type": "stream",
     "text": [
      "Epoch 1/5\n",
      "86/86 [==============================] - 25s 277ms/step - loss: 1.9477 - accuracy: 0.2624 - val_loss: 2.0650 - val_accuracy: 0.1541 - lr: 0.0010\n",
      "Epoch 2/5\n",
      "86/86 [==============================] - 23s 272ms/step - loss: 1.8776 - accuracy: 0.3010 - val_loss: 2.0709 - val_accuracy: 0.1541 - lr: 0.0010\n",
      "Epoch 3/5\n",
      "86/86 [==============================] - 23s 270ms/step - loss: 1.8337 - accuracy: 0.2872 - val_loss: 2.0760 - val_accuracy: 0.1541 - lr: 0.0010\n",
      "Epoch 4/5\n",
      "86/86 [==============================] - 23s 272ms/step - loss: 1.7987 - accuracy: 0.3149 - val_loss: 2.0778 - val_accuracy: 0.1657 - lr: 0.0010\n",
      "Epoch 5/5\n",
      "86/86 [==============================] - 24s 277ms/step - loss: 1.7578 - accuracy: 0.3163 - val_loss: 2.0628 - val_accuracy: 0.2267 - lr: 0.0010\n"
     ]
    }
   ],
   "source": [
    "history_cnn = cnn.fit(X_train_cnn, y_train_cnn, epochs=5, batch_size=mini_batch_size, callbacks=callbacks,\n",
    "                      validation_data=(X_val_cnn, y_val_cnn)).history"
   ]
  },
  {
   "cell_type": "code",
   "execution_count": 14,
   "id": "2eacfee1-8f89-4aaa-aced-188aa772ebe9",
   "metadata": {
    "execution": {
     "iopub.execute_input": "2023-06-19T11:13:05.165721Z",
     "iopub.status.busy": "2023-06-19T11:13:05.165721Z",
     "iopub.status.idle": "2023-06-19T11:13:06.945618Z",
     "shell.execute_reply": "2023-06-19T11:13:06.944620Z",
     "shell.execute_reply.started": "2023-06-19T11:13:05.165721Z"
    },
    "id": "gyhwCwVXpkoV",
    "outputId": "088409b5-d01b-4c40-bdaf-66965fd7a402"
   },
   "outputs": [
    {
     "name": "stdout",
     "output_type": "stream",
     "text": [
      "23/23 [==============================] - 2s 63ms/step\n",
      "Accuracy 0.2105978260869565\n",
      "F1-score [0.         0.43672457 0.         0.21383648 0.         0.16107383\n",
      " 0.         0.18269231]\n",
      "              precision    recall  f1-score   support\n",
      "\n",
      "           0       0.00      0.00      0.00        56\n",
      "           1       0.30      0.78      0.44       113\n",
      "           2       0.00      0.00      0.00       113\n",
      "           3       0.37      0.15      0.21       113\n",
      "           4       0.00      0.00      0.00       113\n",
      "           5       0.33      0.11      0.16       113\n",
      "           6       0.00      0.00      0.00        58\n",
      "           7       0.11      0.67      0.18        57\n",
      "\n",
      "    accuracy                           0.21       736\n",
      "   macro avg       0.14      0.21      0.12       736\n",
      "weighted avg       0.16      0.21      0.14       736\n",
      "\n"
     ]
    },
    {
     "name": "stderr",
     "output_type": "stream",
     "text": [
      "D:\\Python\\lib\\site-packages\\sklearn\\metrics\\_classification.py:1344: UndefinedMetricWarning: Precision and F-score are ill-defined and being set to 0.0 in labels with no predicted samples. Use `zero_division` parameter to control this behavior.\n",
      "  _warn_prf(average, modifier, msg_start, len(result))\n",
      "D:\\Python\\lib\\site-packages\\sklearn\\metrics\\_classification.py:1344: UndefinedMetricWarning: Precision and F-score are ill-defined and being set to 0.0 in labels with no predicted samples. Use `zero_division` parameter to control this behavior.\n",
      "  _warn_prf(average, modifier, msg_start, len(result))\n",
      "D:\\Python\\lib\\site-packages\\sklearn\\metrics\\_classification.py:1344: UndefinedMetricWarning: Precision and F-score are ill-defined and being set to 0.0 in labels with no predicted samples. Use `zero_division` parameter to control this behavior.\n",
      "  _warn_prf(average, modifier, msg_start, len(result))\n"
     ]
    }
   ],
   "source": [
    "y_pred = np.argmax(cnn.predict(X_test_cnn), axis=1)\n",
    "\n",
    "print('Accuracy %s' % accuracy_score(y_test, y_pred))\n",
    "print('F1-score %s' % f1_score(y_test, y_pred, average=None))\n",
    "print(classification_report(y_test, y_pred))"
   ]
  },
  {
   "cell_type": "code",
   "execution_count": 15,
   "id": "11ff4855-165f-40ae-8331-f1cf306741ad",
   "metadata": {
    "execution": {
     "iopub.execute_input": "2023-06-19T11:13:06.946615Z",
     "iopub.status.busy": "2023-06-19T11:13:06.946615Z",
     "iopub.status.idle": "2023-06-19T11:13:08.541041Z",
     "shell.execute_reply": "2023-06-19T11:13:08.540043Z",
     "shell.execute_reply.started": "2023-06-19T11:13:06.946615Z"
    },
    "id": "KK9bHw20pkoV",
    "outputId": "8dd1e706-cdb9-4e4c-c2e2-da4b9b8b2888"
   },
   "outputs": [
    {
     "name": "stdout",
     "output_type": "stream",
     "text": [
      "23/23 [==============================] - 2s 66ms/step - loss: 2.0655 - accuracy: 0.2106\n"
     ]
    },
    {
     "data": {
      "text/plain": [
       "[2.0655012130737305, 0.21059782803058624]"
      ]
     },
     "execution_count": 15,
     "metadata": {},
     "output_type": "execute_result"
    }
   ],
   "source": [
    "cnn.evaluate(X_test_cnn, y_test)"
   ]
  },
  {
   "cell_type": "markdown",
   "id": "0307db0d-b902-401c-aa79-0103f1e69110",
   "metadata": {
    "id": "oFMjyB2HpkoW"
   },
   "source": [
    "# LSTM Classifier"
   ]
  },
  {
   "cell_type": "code",
   "execution_count": 16,
   "id": "0caaf746-9c81-438a-81a9-2075ccb98233",
   "metadata": {
    "execution": {
     "iopub.execute_input": "2023-06-19T13:39:11.063143Z",
     "iopub.status.busy": "2023-06-19T13:39:11.062146Z",
     "iopub.status.idle": "2023-06-19T13:39:11.083091Z",
     "shell.execute_reply": "2023-06-19T13:39:11.082094Z",
     "shell.execute_reply.started": "2023-06-19T13:39:11.063143Z"
    },
    "id": "IZe4VFW6pkoW"
   },
   "outputs": [],
   "source": [
    "from keras.layers import LSTM"
   ]
  },
  {
   "cell_type": "code",
   "execution_count": 17,
   "id": "6151009d-967c-42b3-a45c-049ab0809447",
   "metadata": {
    "execution": {
     "iopub.execute_input": "2023-06-19T13:39:12.327761Z",
     "iopub.status.busy": "2023-06-19T13:39:12.326765Z",
     "iopub.status.idle": "2023-06-19T13:39:12.341724Z",
     "shell.execute_reply": "2023-06-19T13:39:12.340730Z",
     "shell.execute_reply.started": "2023-06-19T13:39:12.327761Z"
    },
    "id": "7V0uXF8BpkoW"
   },
   "outputs": [],
   "source": [
    "def build_lstm(n_timesteps, n_outputs):\n",
    "    model = Sequential()\n",
    "    model.add(LSTM(256, input_shape=(n_timesteps, 1)))\n",
    "    model.add(Dropout(0.5))\n",
    "    model.add(Dense(64, activation='relu'))\n",
    "    model.add(Dropout(0.2))\n",
    "    model.add(Dense(n_outputs, activation='sigmoid'))\n",
    "    \n",
    "    model.compile(loss='sparse_categorical_crossentropy', optimizer='adam', metrics=['accuracy'])\n",
    "    \n",
    "    return model"
   ]
  },
  {
   "cell_type": "code",
   "execution_count": 18,
   "id": "039eb59e-b113-4c18-ac01-04b21ad891f2",
   "metadata": {
    "execution": {
     "iopub.execute_input": "2023-06-19T13:39:13.875084Z",
     "iopub.status.busy": "2023-06-19T13:39:13.874086Z",
     "iopub.status.idle": "2023-06-19T13:39:14.197100Z",
     "shell.execute_reply": "2023-06-19T13:39:14.196326Z",
     "shell.execute_reply.started": "2023-06-19T13:39:13.875084Z"
    },
    "id": "6Odjc3rXpkoW"
   },
   "outputs": [],
   "source": [
    "lstm = build_lstm(n_timesteps, n_outputs)"
   ]
  },
  {
   "cell_type": "code",
   "execution_count": 19,
   "id": "fdf7ec3b-dcc3-4017-b83b-e2f5c3ad7f74",
   "metadata": {
    "execution": {
     "iopub.execute_input": "2023-06-19T13:39:15.039658Z",
     "iopub.status.busy": "2023-06-19T13:39:15.037664Z",
     "iopub.status.idle": "2023-06-19T13:39:15.071573Z",
     "shell.execute_reply": "2023-06-19T13:39:15.070575Z",
     "shell.execute_reply.started": "2023-06-19T13:39:15.039658Z"
    },
    "id": "GdRzYu-vpkoW",
    "outputId": "25e49cf8-ab4b-4925-d4c5-c23a80ee6e57"
   },
   "outputs": [
    {
     "name": "stdout",
     "output_type": "stream",
     "text": [
      "Model: \"sequential_1\"\n",
      "_________________________________________________________________\n",
      " Layer (type)                Output Shape              Param #   \n",
      "=================================================================\n",
      " lstm (LSTM)                 (None, 256)               264192    \n",
      "                                                                 \n",
      " dropout_3 (Dropout)         (None, 256)               0         \n",
      "                                                                 \n",
      " dense_1 (Dense)             (None, 64)                16448     \n",
      "                                                                 \n",
      " dropout_4 (Dropout)         (None, 64)                0         \n",
      "                                                                 \n",
      " dense_2 (Dense)             (None, 8)                 520       \n",
      "                                                                 \n",
      "=================================================================\n",
      "Total params: 281,160\n",
      "Trainable params: 281,160\n",
      "Non-trainable params: 0\n",
      "_________________________________________________________________\n"
     ]
    }
   ],
   "source": [
    "lstm.summary()"
   ]
  },
  {
   "cell_type": "code",
   "execution_count": 20,
   "id": "dfac9f8a-067f-4ef6-9483-31a9453e8610",
   "metadata": {
    "execution": {
     "iopub.execute_input": "2023-06-19T13:39:16.750677Z",
     "iopub.status.busy": "2023-06-19T13:39:16.749681Z",
     "iopub.status.idle": "2023-06-19T13:43:13.134063Z",
     "shell.execute_reply": "2023-06-19T13:43:13.134063Z",
     "shell.execute_reply.started": "2023-06-19T13:39:16.750677Z"
    },
    "id": "2oCWxtbXpkoW",
    "outputId": "ca64cabf-69a3-4836-86ed-5d545d2cad85"
   },
   "outputs": [
    {
     "name": "stdout",
     "output_type": "stream",
     "text": [
      "Epoch 1/10\n",
      "86/86 [==============================] - 25s 291ms/step - loss: 1.7323 - accuracy: 0.3455 - val_loss: 2.0153 - val_accuracy: 0.1977 - lr: 0.0010\n",
      "Epoch 2/10\n",
      "86/86 [==============================] - 26s 298ms/step - loss: 1.7033 - accuracy: 0.3448 - val_loss: 1.9965 - val_accuracy: 0.2122 - lr: 0.0010\n",
      "Epoch 3/10\n",
      "86/86 [==============================] - 28s 322ms/step - loss: 1.6658 - accuracy: 0.3739 - val_loss: 2.8404 - val_accuracy: 0.2035 - lr: 0.0010\n",
      "Epoch 4/10\n",
      "86/86 [==============================] - 24s 274ms/step - loss: 1.6567 - accuracy: 0.3732 - val_loss: 2.6173 - val_accuracy: 0.2151 - lr: 0.0010\n",
      "Epoch 5/10\n",
      "86/86 [==============================] - 22s 259ms/step - loss: 1.6337 - accuracy: 0.3717 - val_loss: 3.9568 - val_accuracy: 0.1744 - lr: 0.0010\n",
      "Epoch 6/10\n",
      "86/86 [==============================] - 22s 261ms/step - loss: 1.6095 - accuracy: 0.3819 - val_loss: 2.5976 - val_accuracy: 0.2064 - lr: 0.0010\n",
      "Epoch 7/10\n",
      "86/86 [==============================] - 22s 260ms/step - loss: 1.5921 - accuracy: 0.3965 - val_loss: 2.3339 - val_accuracy: 0.2645 - lr: 0.0010\n",
      "Epoch 8/10\n",
      "86/86 [==============================] - 22s 260ms/step - loss: 1.5715 - accuracy: 0.4023 - val_loss: 8.5841 - val_accuracy: 0.1541 - lr: 0.0010\n",
      "Epoch 9/10\n",
      "86/86 [==============================] - 22s 261ms/step - loss: 1.5663 - accuracy: 0.3892 - val_loss: 3.4269 - val_accuracy: 0.1657 - lr: 0.0010\n",
      "Epoch 10/10\n",
      "86/86 [==============================] - 22s 260ms/step - loss: 1.5442 - accuracy: 0.3994 - val_loss: 1.8808 - val_accuracy: 0.2471 - lr: 0.0010\n"
     ]
    }
   ],
   "source": [
    "history_lstm = cnn.fit(X_train_cnn, y_train_cnn, epochs=10, batch_size=mini_batch_size, callbacks=callbacks,\n",
    "                       validation_data=(X_val_cnn, y_val_cnn)).history"
   ]
  },
  {
   "cell_type": "code",
   "execution_count": 21,
   "id": "2c268d24-f478-4770-89ea-3e168fe8fd08",
   "metadata": {
    "execution": {
     "iopub.execute_input": "2023-06-19T13:43:13.136062Z",
     "iopub.status.busy": "2023-06-19T13:43:13.136062Z",
     "iopub.status.idle": "2023-06-19T13:44:05.414803Z",
     "shell.execute_reply": "2023-06-19T13:44:05.413806Z",
     "shell.execute_reply.started": "2023-06-19T13:43:13.136062Z"
    },
    "id": "HgESZu0bpkoX",
    "outputId": "061884ba-1559-4c3e-9e99-86a0fbe8bddc"
   },
   "outputs": [
    {
     "name": "stdout",
     "output_type": "stream",
     "text": [
      "23/23 [==============================] - 52s 2s/step\n",
      "Accuracy 0.07608695652173914\n",
      "F1-score [0.14141414 0.         0.         0.         0.         0.\n",
      " 0.         0.        ]\n",
      "              precision    recall  f1-score   support\n",
      "\n",
      "           0       0.08      1.00      0.14        56\n",
      "           1       0.00      0.00      0.00       113\n",
      "           2       0.00      0.00      0.00       113\n",
      "           3       0.00      0.00      0.00       113\n",
      "           4       0.00      0.00      0.00       113\n",
      "           5       0.00      0.00      0.00       113\n",
      "           6       0.00      0.00      0.00        58\n",
      "           7       0.00      0.00      0.00        57\n",
      "\n",
      "    accuracy                           0.08       736\n",
      "   macro avg       0.01      0.12      0.02       736\n",
      "weighted avg       0.01      0.08      0.01       736\n",
      "\n"
     ]
    },
    {
     "name": "stderr",
     "output_type": "stream",
     "text": [
      "D:\\Python\\lib\\site-packages\\sklearn\\metrics\\_classification.py:1344: UndefinedMetricWarning: Precision and F-score are ill-defined and being set to 0.0 in labels with no predicted samples. Use `zero_division` parameter to control this behavior.\n",
      "  _warn_prf(average, modifier, msg_start, len(result))\n",
      "D:\\Python\\lib\\site-packages\\sklearn\\metrics\\_classification.py:1344: UndefinedMetricWarning: Precision and F-score are ill-defined and being set to 0.0 in labels with no predicted samples. Use `zero_division` parameter to control this behavior.\n",
      "  _warn_prf(average, modifier, msg_start, len(result))\n",
      "D:\\Python\\lib\\site-packages\\sklearn\\metrics\\_classification.py:1344: UndefinedMetricWarning: Precision and F-score are ill-defined and being set to 0.0 in labels with no predicted samples. Use `zero_division` parameter to control this behavior.\n",
      "  _warn_prf(average, modifier, msg_start, len(result))\n"
     ]
    }
   ],
   "source": [
    "y_pred = np.argmax(lstm.predict(X_test_cnn), axis=1)\n",
    "\n",
    "print('Accuracy %s' % accuracy_score(y_test, y_pred))\n",
    "print('F1-score %s' % f1_score(y_test, y_pred, average=None))\n",
    "print(classification_report(y_test, y_pred))"
   ]
  },
  {
   "cell_type": "code",
   "execution_count": 22,
   "id": "c3a50bad-240a-4668-9586-6f2a29378d85",
   "metadata": {
    "execution": {
     "iopub.execute_input": "2023-06-19T13:44:05.415800Z",
     "iopub.status.busy": "2023-06-19T13:44:05.415800Z",
     "iopub.status.idle": "2023-06-19T13:44:58.954811Z",
     "shell.execute_reply": "2023-06-19T13:44:58.954811Z",
     "shell.execute_reply.started": "2023-06-19T13:44:05.415800Z"
    },
    "id": "345ZXvqOpkoX",
    "outputId": "fdf9add9-bd1d-4e90-c0c5-05ef3e2bf877"
   },
   "outputs": [
    {
     "name": "stdout",
     "output_type": "stream",
     "text": [
      "23/23 [==============================] - 53s 2s/step - loss: 2.0794 - accuracy: 0.0761\n"
     ]
    },
    {
     "data": {
      "text/plain": [
       "[2.0794413089752197, 0.07608695328235626]"
      ]
     },
     "execution_count": 22,
     "metadata": {},
     "output_type": "execute_result"
    }
   ],
   "source": [
    "lstm.evaluate(X_test_cnn, y_test)"
   ]
  },
  {
   "cell_type": "code",
   "execution_count": null,
   "id": "ceda5254-5bb1-48a4-a0fb-2d90aa823362",
   "metadata": {
    "id": "blctOL0YpkoX"
   },
   "outputs": [],
   "source": [
    "from pyts.datasets import load_basic_motions\n",
    "\n",
    "from tslearn.preprocessing import TimeSeriesScalerMinMax\n",
    "from sklearn.model_selection import train_test_split, cross_val_score \n",
    "\n",
    "from sklearn.metrics import accuracy_score, f1_score, classification_report\n",
    "from sklearn.metrics import roc_curve, auc, roc_auc_score"
   ]
  },
  {
   "cell_type": "code",
   "execution_count": null,
   "id": "a07a7e7d-b377-4ba6-ab57-92a03267c4f8",
   "metadata": {
    "id": "AyFWLcFKpkoX",
    "outputId": "3c816441-39aa-4d2c-db56-607b5b6d5df5"
   },
   "outputs": [],
   "source": [
    "X_train, X_test, y_train, y_test = load_basic_motions(return_X_y=True)\n",
    "X_train.shape"
   ]
  },
  {
   "cell_type": "code",
   "execution_count": null,
   "id": "f9e04a7f-73ad-4755-99ef-fadebd23af74",
   "metadata": {
    "id": "OYbFwY64pkoY"
   },
   "outputs": [],
   "source": [
    "scaler = TimeSeriesScalerMinMax()\n",
    "X_train = scaler.fit_transform(X_train)\n",
    "X_test = scaler.transform(X_test)"
   ]
  },
  {
   "cell_type": "code",
   "execution_count": null,
   "id": "a734b2fa-feda-42ef-a49e-3bb61fd38836",
   "metadata": {
    "id": "t1ftdo2ipkoY",
    "outputId": "721b4193-b221-4566-e422-adffdac811e8"
   },
   "outputs": [],
   "source": [
    "y_train.shape"
   ]
  },
  {
   "cell_type": "code",
   "execution_count": null,
   "id": "b1924904-d84f-470a-8ba7-30af84b7f202",
   "metadata": {
    "id": "SeW5zN8xpkoY",
    "outputId": "6e2c46af-e8cc-4324-ff54-bede696ab196"
   },
   "outputs": [],
   "source": [
    "y_train"
   ]
  },
  {
   "cell_type": "code",
   "execution_count": null,
   "id": "b239f46e-59a4-4d01-89cd-af6a9da2e8c3",
   "metadata": {
    "id": "WgtCq6x2pkoY"
   },
   "outputs": [],
   "source": [
    "from sklearn.preprocessing import LabelEncoder"
   ]
  },
  {
   "cell_type": "code",
   "execution_count": null,
   "id": "a03a489c-f205-47e2-a592-939b67ab7978",
   "metadata": {
    "id": "_wLwHKllpkoZ"
   },
   "outputs": [],
   "source": [
    "le = LabelEncoder()\n",
    "y_train = le.fit_transform(y_train)\n",
    "y_test = le.transform(y_test)"
   ]
  },
  {
   "cell_type": "code",
   "execution_count": null,
   "id": "c9104603-0b86-47c2-89e7-9bb0756daf8b",
   "metadata": {
    "id": "hMCFA0pMpkoZ"
   },
   "outputs": [],
   "source": [
    "X_train = X_train.reshape(40, 100, 6)\n",
    "X_test = X_test.reshape(40, 100, 6)"
   ]
  },
  {
   "cell_type": "code",
   "execution_count": null,
   "id": "c1701581-e934-4882-9c32-bffbbb0009fc",
   "metadata": {
    "id": "aJhji4AapkoZ",
    "outputId": "406c0be9-2078-4e82-d8d4-b3148bea2230"
   },
   "outputs": [],
   "source": [
    "n_timesteps, n_outputs, n_features = X_train.shape[1], len(np.unique(y_train)), X_train.shape[2] \n",
    "print(\"TIMESTEPS: \", n_timesteps)\n",
    "print(\"N. LABELS: \", n_outputs)\n",
    "print(\"N. FEATURES: \", n_features)"
   ]
  },
  {
   "cell_type": "code",
   "execution_count": null,
   "id": "ae07d449-ca92-44a4-95ed-c0da797eb3cb",
   "metadata": {
    "id": "NAbmi-bDpkoZ"
   },
   "outputs": [],
   "source": [
    "X_train_cnn, X_val_cnn, y_train_cnn, y_val_cnn = train_test_split(X_train, y_train, test_size=0.2, stratify=y_train)"
   ]
  },
  {
   "cell_type": "code",
   "execution_count": null,
   "id": "41d5b56c-cf8d-4e1c-afe6-e68c38a9f834",
   "metadata": {
    "id": "eCvXyn-apkoZ"
   },
   "outputs": [],
   "source": [
    "from keras.models import Sequential\n",
    "from keras.layers.core import Dense, Activation, Dropout, Flatten\n",
    "from keras.layers import TimeDistributed\n",
    "from keras.layers.recurrent import LSTM\n",
    "from keras.layers import Dense, Conv1D, Conv2D, MaxPool2D, Flatten, Dropout, LeakyReLU, GlobalAveragePooling1D\n",
    "from keras.callbacks import EarlyStopping, ModelCheckpoint\n",
    "from keras.layers.normalization import BatchNormalization\n",
    "from keras.callbacks import ReduceLROnPlateau, ModelCheckpoint"
   ]
  },
  {
   "cell_type": "code",
   "execution_count": null,
   "id": "f6a7709a-0e6a-4ebc-8d1b-3256d2edcf8f",
   "metadata": {
    "id": "wb8xknTrpkoZ"
   },
   "outputs": [],
   "source": [
    "def build_lstm2(n_timesteps, n_outputs, n_features):\n",
    "    model = Sequential()\n",
    "    model.add(LSTM(4, input_shape=(n_timesteps, n_features), return_sequences=True, \n",
    "                        kernel_initializer='TruncatedNormal'))\n",
    "    model.add(BatchNormalization())\n",
    "    model.add(LeakyReLU())\n",
    "    model.add(Dropout(0.3))\n",
    "    \n",
    "    #1\n",
    "    for _ in range(2):\n",
    "        model.add(LSTM(4, kernel_initializer='TruncatedNormal', return_sequences=True))\n",
    "        model.add(BatchNormalization())\n",
    "        model.add(LeakyReLU())\n",
    "        model.add(Dropout(0.04))   \n",
    "\n",
    "    #2\n",
    "    model.add(LSTM(32, kernel_initializer='TruncatedNormal', return_sequences=False))\n",
    "    model.add(BatchNormalization())\n",
    "    model.add(LeakyReLU())\n",
    "    model.add(Dropout(0.7))\n",
    "    \n",
    "    #3\n",
    "    for _ in range(2):\n",
    "        model.add(Dense(256, kernel_initializer='TruncatedNormal'))\n",
    "        model.add(BatchNormalization())\n",
    "        model.add(LeakyReLU())\n",
    "        model.add(Dropout(0.2))\n",
    "    #4\n",
    "    for _ in range(1):\n",
    "        model.add(Dense(64, kernel_initializer='TruncatedNormal'))\n",
    "        model.add(BatchNormalization())\n",
    "        model.add(LeakyReLU())\n",
    "        model.add(Dropout(0.7))\n",
    "\n",
    "    #5\n",
    "    model.add(Dense(32, kernel_initializer='TruncatedNormal'))\n",
    "    model.add(BatchNormalization())\n",
    "    model.add(LeakyReLU())\n",
    "    model.add(Dropout(0.4))\n",
    "        \n",
    "    model.add(Dense(n_outputs, activation='sigmoid'))\n",
    "    \n",
    "    model.compile(loss='sparse_categorical_crossentropy', optimizer='adam', metrics=['accuracy'])\n",
    "    \n",
    "    return model"
   ]
  },
  {
   "cell_type": "code",
   "execution_count": null,
   "id": "28f9ded0-d169-4f34-b903-d032b7c24748",
   "metadata": {
    "id": "Oa2ds9GKpkoa"
   },
   "outputs": [],
   "source": [
    "lstm2 = build_lstm2(n_timesteps, n_outputs, n_features)"
   ]
  },
  {
   "cell_type": "code",
   "execution_count": null,
   "id": "d3faad9b-1418-4584-9c67-1749c2ad9dc0",
   "metadata": {
    "id": "FvH8amRIpkoa",
    "outputId": "505c1ed5-5754-4758-d527-88e17ab978fc"
   },
   "outputs": [],
   "source": [
    "lstm2.summary()"
   ]
  },
  {
   "cell_type": "code",
   "execution_count": null,
   "id": "1fb0f6c6-e82a-4a3b-99ca-f5ffa89a9093",
   "metadata": {
    "id": "BU_Wh6GCpkoa"
   },
   "outputs": [],
   "source": [
    "rlr = ReduceLROnPlateau(monitor='loss', factor=0.5, patience=50, min_lr=0.0001)\n",
    "mc = ModelCheckpoint('best_model_lstm2.h5', monitor='val_loss', save_best_only=True)\n",
    "\n",
    "callbacks = [rlr, mc]\n",
    "\n",
    "batch_size = 16\n",
    "mini_batch_size = int(min(X_train.shape[0]/10, batch_size))"
   ]
  },
  {
   "cell_type": "code",
   "execution_count": null,
   "id": "d3330e69-4171-4044-9cde-cd7276f51de1",
   "metadata": {
    "id": "-1_9sjTvpkoa",
    "outputId": "4ceb52d7-e4af-4623-c7dc-e2d2d0f503f6"
   },
   "outputs": [],
   "source": [
    "history_lstm2 = lstm2.fit(X_train_cnn, y_train_cnn, epochs=50, batch_size=mini_batch_size, callbacks=callbacks,\n",
    "                          validation_data=(X_val_cnn, y_val_cnn)).history"
   ]
  },
  {
   "cell_type": "code",
   "execution_count": null,
   "id": "3833fa0d-f305-41a9-bf99-46252bea48ff",
   "metadata": {
    "id": "Y5-oZRhZpkoa",
    "outputId": "027ac6e4-faeb-46a4-e5bc-936f5f4d9a08"
   },
   "outputs": [],
   "source": [
    "y_pred = np.argmax(lstm2.predict(X_test), axis=1)\n",
    "\n",
    "print('Accuracy %s' % accuracy_score(y_test, y_pred))\n",
    "print('F1-score %s' % f1_score(y_test, y_pred, average=None))\n",
    "print(classification_report(y_test, y_pred))"
   ]
  },
  {
   "cell_type": "code",
   "execution_count": null,
   "id": "8fc3593e-8126-47e0-a6ca-284eadec7491",
   "metadata": {
    "id": "k0Qph2wUpkoa",
    "outputId": "a70b3c20-a601-41a8-c95e-2e5bf4f80e9b"
   },
   "outputs": [],
   "source": [
    "X_train_cnn.shape"
   ]
  },
  {
   "cell_type": "code",
   "execution_count": null,
   "id": "baf167e2-dc12-4b79-a86e-1bf62d800dce",
   "metadata": {
    "id": "EdXMCz8tpkob",
    "outputId": "0040cbd2-be30-473d-9181-73a052d175cf"
   },
   "outputs": [],
   "source": [
    "X_train_cnn2 = X_train_cnn.reshape(X_train_cnn.shape[0], X_train_cnn.shape[1], X_train_cnn.shape[2], 1)\n",
    "X_val_cnn2 = X_val_cnn.reshape(X_val_cnn.shape[0], X_val_cnn.shape[1], X_val_cnn.shape[2], 1)\n",
    "X_test_cnn2 = X_test.reshape(X_test.shape[0], X_test.shape[1], X_test.shape[2], 1)\n",
    "\n",
    "X_train_cnn2.shape"
   ]
  },
  {
   "cell_type": "code",
   "execution_count": null,
   "id": "4c1f9a83-5b0c-4007-94d5-f70644c5eae9",
   "metadata": {
    "id": "ZS31Ftpwpkob"
   },
   "outputs": [],
   "source": [
    "def build_cnn2(n_timesteps, n_features, n_outputs):\n",
    "    input_shape = (n_timesteps, n_features, 1)\n",
    "\n",
    "    model = Sequential()\n",
    "    \n",
    "    ks1_first = 3\n",
    "    ks1_second = 3\n",
    "    \n",
    "    ks2_first = 4\n",
    "    ks2_second = 4\n",
    "    \n",
    "    model.add(Conv2D(filters=(3), \n",
    "                     kernel_size=(ks1_first, ks1_second),\n",
    "                     input_shape=input_shape, \n",
    "                     padding='same',\n",
    "                     kernel_initializer='TruncatedNormal'))\n",
    "    model.add(BatchNormalization())\n",
    "    model.add(LeakyReLU())\n",
    "    model.add(Dropout(0.02))\n",
    "    \n",
    "    for _ in range(2):\n",
    "        model.add(Conv2D(filters=(4), \n",
    "                     kernel_size= (ks2_first, ks2_second), \n",
    "                         padding='same',\n",
    "                     kernel_initializer='TruncatedNormal'))\n",
    "        model.add(BatchNormalization())\n",
    "        model.add(LeakyReLU())\n",
    "        model.add(Dropout(0.2))  \n",
    "    \n",
    "    model.add(Flatten())\n",
    "    \n",
    "    for _ in range(4):\n",
    "        model.add(Dense(64 , kernel_initializer='TruncatedNormal'))\n",
    "        model.add(BatchNormalization())\n",
    "        model.add(LeakyReLU())\n",
    "        model.add(Dropout(0.4))\n",
    "    \n",
    "    for _ in range(3):\n",
    "        model.add(Dense(128 , kernel_initializer='TruncatedNormal'))\n",
    "        model.add(BatchNormalization())\n",
    "        model.add(LeakyReLU())\n",
    "        model.add(Dropout(0.3))\n",
    "  \n",
    "    model.add(Dense(1024 , kernel_initializer='TruncatedNormal'))\n",
    "    model.add(BatchNormalization())\n",
    "    model.add(LeakyReLU())\n",
    "    model.add(Dropout(0.7))\n",
    "        \n",
    "    model.add(Dense(n_outputs, activation='sigmoid'))\n",
    "    model.compile(loss='sparse_categorical_crossentropy', optimizer='adam', metrics=['accuracy'])\n",
    "    \n",
    "    return model"
   ]
  },
  {
   "cell_type": "code",
   "execution_count": null,
   "id": "430f6e6b-fdc0-4560-b12f-d228a705b9c9",
   "metadata": {
    "id": "SkubQ_vDpkob"
   },
   "outputs": [],
   "source": [
    "cnn2 = build_cnn2(n_timesteps, n_features, n_outputs)"
   ]
  },
  {
   "cell_type": "code",
   "execution_count": null,
   "id": "c7711160-f1a5-43c6-9760-2c7f8fc38e65",
   "metadata": {
    "id": "JVF0Udhdpkob",
    "outputId": "1d3eafbb-47e5-44b4-a089-938a790f3648"
   },
   "outputs": [],
   "source": [
    "cnn2.summary()"
   ]
  },
  {
   "cell_type": "code",
   "execution_count": null,
   "id": "5609fec7-de27-4e86-abe0-9c8ac7970482",
   "metadata": {
    "id": "W8GL6GK9pkoc"
   },
   "outputs": [],
   "source": [
    "rlr = ReduceLROnPlateau(monitor='loss', factor=0.5, patience=50, min_lr=0.0001)\n",
    "mc = ModelCheckpoint('best_model_cnn2.h5', monitor='val_loss', save_best_only=True)\n",
    "\n",
    "callbacks = [rlr, mc]\n",
    "\n",
    "batch_size = 16\n",
    "mini_batch_size = int(min(X_train.shape[0]/10, batch_size))"
   ]
  },
  {
   "cell_type": "code",
   "execution_count": null,
   "id": "a240000e-944c-417b-9d84-3b8966624d6c",
   "metadata": {
    "id": "kPzkonCYpkoc",
    "outputId": "82971b7f-6942-4340-872c-54531582e674"
   },
   "outputs": [],
   "source": [
    "history_cnn2 = cnn2.fit(X_train_cnn2, y_train_cnn, epochs=50, batch_size=mini_batch_size, callbacks=callbacks,\n",
    "                      validation_data=(X_val_cnn2, y_val_cnn)).history"
   ]
  },
  {
   "cell_type": "code",
   "execution_count": null,
   "id": "2490018c-834d-4024-8d44-942483832f91",
   "metadata": {
    "id": "od48xGTNpkoc",
    "outputId": "cac3315f-1183-4168-d4ec-2f13e3e314b7"
   },
   "outputs": [],
   "source": [
    "y_pred = np.argmax(cnn2.predict(X_test_cnn2), axis=1)\n",
    "\n",
    "print('Accuracy %s' % accuracy_score(y_test, y_pred))\n",
    "print('F1-score %s' % f1_score(y_test, y_pred, average=None))\n",
    "print(classification_report(y_test, y_pred))"
   ]
  },
  {
   "cell_type": "code",
   "execution_count": null,
   "id": "370e95ed-259e-4668-9a84-1c7c36c8b0c0",
   "metadata": {
    "id": "wroWx35Zpkoc"
   },
   "outputs": [],
   "source": []
  },
  {
   "cell_type": "code",
   "execution_count": null,
   "id": "74a1bdd7-574c-42ac-89fc-47381c1f1147",
   "metadata": {
    "id": "jAveAzg3pkoc"
   },
   "outputs": [],
   "source": [
    "def build_cnn3(n_timesteps, n_outputs, n_features):\n",
    "    model = Sequential()\n",
    "    \n",
    "    model.add(Conv1D(filters=16, kernel_size=8, activation='relu', input_shape=(n_timesteps, n_features)))\n",
    "    model.add(BatchNormalization())\n",
    "    model.add(Activation('relu'))\n",
    "    \n",
    "    model.add(Dropout(0.3))\n",
    "    \n",
    "    model.add(Conv1D(filters=32, kernel_size=5, activation='relu'))\n",
    "    model.add(BatchNormalization())\n",
    "    model.add(Activation('relu'))\n",
    "    \n",
    "    model.add(Dropout(0.3))\n",
    "    \n",
    "    model.add(Conv1D(filters=64, kernel_size=3, activation='relu'))\n",
    "    model.add(BatchNormalization())\n",
    "    model.add(Activation('relu'))\n",
    "    \n",
    "    model.add(Dropout(0.3))\n",
    "    \n",
    "    model.add(GlobalAveragePooling1D())\n",
    "    \n",
    "    model.add(Dense(n_outputs, activation='sigmoid'))\n",
    "    model.compile(loss='sparse_categorical_crossentropy', optimizer='adam', metrics=['accuracy'])\n",
    "    \n",
    "    return model"
   ]
  },
  {
   "cell_type": "code",
   "execution_count": null,
   "id": "b8914a71-b0f5-493e-b059-7757befeea50",
   "metadata": {
    "id": "DcJTTLrCpkoc"
   },
   "outputs": [],
   "source": [
    "cnn3 = build_cnn3(n_timesteps, n_outputs, n_features)"
   ]
  },
  {
   "cell_type": "code",
   "execution_count": null,
   "id": "bddd8d37-147b-49e1-980e-48b9ac24f134",
   "metadata": {
    "id": "KQwl2Ld7pkod",
    "outputId": "4dec5db0-81df-4532-aaae-82706c0f58b0"
   },
   "outputs": [],
   "source": [
    "cnn3.summary()"
   ]
  },
  {
   "cell_type": "code",
   "execution_count": null,
   "id": "8ab1917b-8324-45fb-8ae8-10db2bd92a2a",
   "metadata": {
    "id": "i_BkF8WNpkod"
   },
   "outputs": [],
   "source": [
    "rlr = ReduceLROnPlateau(monitor='loss', factor=0.5, patience=50, min_lr=0.0001)\n",
    "mc = ModelCheckpoint('best_model_cnn2.h5', monitor='val_loss', save_best_only=True)\n",
    "\n",
    "callbacks = [rlr, mc]\n",
    "\n",
    "batch_size = 16\n",
    "mini_batch_size = int(min(X_train.shape[0]/10, batch_size))"
   ]
  },
  {
   "cell_type": "code",
   "execution_count": null,
   "id": "375a17d4-c8b3-4dad-87ed-4683ca1a38e5",
   "metadata": {
    "id": "oz2pCvCEpkod",
    "outputId": "52a75135-f79f-421b-cd0d-6181a6ca5e22"
   },
   "outputs": [],
   "source": [
    "history_cnn3 = cnn3.fit(X_train_cnn, y_train_cnn, epochs=50, batch_size=mini_batch_size, callbacks=callbacks,\n",
    "                      validation_data=(X_val_cnn, y_val_cnn)).history"
   ]
  },
  {
   "cell_type": "code",
   "execution_count": null,
   "id": "edb93773-1304-4cc6-97ac-f12757d57d27",
   "metadata": {
    "id": "5iBQ31cfpkod",
    "outputId": "42970598-ab27-44b9-ed53-47ea034a1081"
   },
   "outputs": [],
   "source": [
    "y_pred = np.argmax(cnn3.predict(X_test), axis=1)\n",
    "\n",
    "print('Accuracy %s' % accuracy_score(y_test, y_pred))\n",
    "print('F1-score %s' % f1_score(y_test, y_pred, average=None))\n",
    "print(classification_report(y_test, y_pred))"
   ]
  },
  {
   "cell_type": "markdown",
   "id": "93e3a2fa-9562-4dd4-9178-64b6dc796cd3",
   "metadata": {
    "id": "nF5QXnDQpkoe"
   },
   "source": [
    "https://machinelearningmastery.com/multivariate-time-series-forecasting-lstms-keras/"
   ]
  },
  {
   "cell_type": "markdown",
   "id": "37ae3cd1-3ca5-4924-922f-e0ba018699a7",
   "metadata": {
    "id": "1idhCbp5pkoe"
   },
   "source": [
    "https://pyts.readthedocs.io/en/stable/generated/pyts.multivariate.classification.MultivariateClassifier.html#pyts.multivariate.classification.MultivariateClassifier"
   ]
  }
 ],
 "metadata": {
  "kernelspec": {
   "display_name": "Python 3 (ipykernel)",
   "language": "python",
   "name": "python3"
  },
  "language_info": {
   "codemirror_mode": {
    "name": "ipython",
    "version": 3
   },
   "file_extension": ".py",
   "mimetype": "text/x-python",
   "name": "python",
   "nbconvert_exporter": "python",
   "pygments_lexer": "ipython3",
   "version": "3.10.10"
  }
 },
 "nbformat": 4,
 "nbformat_minor": 5
}
