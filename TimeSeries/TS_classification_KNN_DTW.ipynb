{
 "cells": [
  {
   "cell_type": "code",
   "execution_count": 15,
   "id": "771e89d1-9494-42fc-8e86-a2f54912014d",
   "metadata": {
    "execution": {
     "iopub.execute_input": "2023-06-30T14:53:17.960044Z",
     "iopub.status.busy": "2023-06-30T14:53:17.960044Z",
     "iopub.status.idle": "2023-06-30T14:53:17.975563Z",
     "shell.execute_reply": "2023-06-30T14:53:17.974561Z",
     "shell.execute_reply.started": "2023-06-30T14:53:17.960044Z"
    },
    "tags": []
   },
   "outputs": [],
   "source": [
    "import numpy as np\n",
    "import pandas as pd\n",
    "import matplotlib.pyplot as plt\n",
    "\n",
    "from sklearn.model_selection import train_test_split, cross_val_score \n",
    "\n",
    "from tslearn.piecewise import SymbolicAggregateApproximation\n",
    "\n",
    "from sklearn.model_selection import train_test_split, cross_val_score \n",
    "from sklearn.metrics import accuracy_score, f1_score, classification_report\n",
    "from pyts.classification import KNeighborsClassifier\n",
    "import gc\n",
    "\n",
    "from tslearn.piecewise import PiecewiseAggregateApproximation\n",
    "from IPython.display import Audio\n",
    "from tqdm.notebook import tqdm\n",
    "import warnings\n",
    "warnings.filterwarnings('ignore')"
   ]
  },
  {
   "cell_type": "code",
   "execution_count": 16,
   "id": "74652a31-1693-4eb2-832c-5df873c573ca",
   "metadata": {
    "execution": {
     "iopub.execute_input": "2023-06-30T14:53:23.364190Z",
     "iopub.status.busy": "2023-06-30T14:53:23.364190Z",
     "iopub.status.idle": "2023-06-30T14:53:26.267759Z",
     "shell.execute_reply": "2023-06-30T14:53:26.267759Z",
     "shell.execute_reply.started": "2023-06-30T14:53:23.364190Z"
    },
    "tags": []
   },
   "outputs": [
    {
     "name": "stdout",
     "output_type": "stream",
     "text": [
      "(1828, 243200) (624, 243200)\n"
     ]
    }
   ],
   "source": [
    "X_train = np.load(\"DATASETS/TimeSeriesTrimmed/X_train.npy\")\n",
    "X_test = np.load(\"DATASETS/TimeSeriesTrimmed/X_test.npy\")\n",
    "y_train = pd.read_csv('DATASETS/TimeSeriesTrimmed/y_train.csv')\n",
    "y_test = pd.read_csv('DATASETS/TimeSeriesTrimmed/y_test.csv')\n",
    "\n",
    "np.nan_to_num(X_train,copy=False)\n",
    "np.nan_to_num(X_test,copy=False)\n",
    "print(X_train.shape, X_test.shape)"
   ]
  },
  {
   "cell_type": "code",
   "execution_count": 19,
   "id": "ca27066d-f8ea-4e5e-9e9f-77b13a8bb27e",
   "metadata": {
    "execution": {
     "iopub.execute_input": "2023-06-30T14:53:52.832539Z",
     "iopub.status.busy": "2023-06-30T14:53:52.831538Z",
     "iopub.status.idle": "2023-06-30T14:53:52.840055Z",
     "shell.execute_reply": "2023-06-30T14:53:52.840055Z",
     "shell.execute_reply.started": "2023-06-30T14:53:52.831538Z"
    },
    "tags": []
   },
   "outputs": [],
   "source": [
    "emotion_mapper = {\"neutral\":0, \"calm\":1, \"happy\":2, \"sad\":3, \"angry\":4, \"fearful\":5, \"disgust\":6, \"surprised\":7}\n",
    "y_train= y_train[\"emotion\"].replace(emotion_mapper)\n",
    "y_test=y_test[\"emotion\"].replace(emotion_mapper)"
   ]
  },
  {
   "cell_type": "markdown",
   "id": "1724630d-a88c-487e-82e0-586a1e79fa7a",
   "metadata": {
    "tags": []
   },
   "source": [
    "## Approx"
   ]
  },
  {
   "cell_type": "code",
   "execution_count": 17,
   "id": "0cfac000-4db9-4019-8ca0-8009ec67e21e",
   "metadata": {
    "execution": {
     "iopub.execute_input": "2023-06-30T14:53:26.269263Z",
     "iopub.status.busy": "2023-06-30T14:53:26.268761Z",
     "iopub.status.idle": "2023-06-30T14:53:42.383369Z",
     "shell.execute_reply": "2023-06-30T14:53:42.383369Z",
     "shell.execute_reply.started": "2023-06-30T14:53:26.269263Z"
    },
    "tags": []
   },
   "outputs": [
    {
     "data": {
      "application/vnd.jupyter.widget-view+json": {
       "model_id": "825b77c14ecd4e7389607da2e68affb0",
       "version_major": 2,
       "version_minor": 0
      },
      "text/plain": [
       "  0%|          | 0/1828 [00:00<?, ?it/s]"
      ]
     },
     "metadata": {},
     "output_type": "display_data"
    },
    {
     "data": {
      "application/vnd.jupyter.widget-view+json": {
       "model_id": "43622b27e5b94f138adab4f5921bd993",
       "version_major": 2,
       "version_minor": 0
      },
      "text/plain": [
       "  0%|          | 0/624 [00:00<?, ?it/s]"
      ]
     },
     "metadata": {},
     "output_type": "display_data"
    },
    {
     "data": {
      "text/plain": [
       "27"
      ]
     },
     "execution_count": 17,
     "metadata": {},
     "output_type": "execute_result"
    }
   ],
   "source": [
    "n_paa_segments = 1000\n",
    "paa = PiecewiseAggregateApproximation(n_segments=n_paa_segments)\n",
    "\n",
    "X_train_paa = list()\n",
    "for ts in tqdm(X_train):\n",
    "    ts = ts[~np.isnan(ts)].reshape(1,-1)\n",
    "    ts_paa = paa.fit_transform(ts).squeeze()\n",
    "    X_train_paa.append(ts_paa)\n",
    "      \n",
    "X_train=np.array(X_train_paa)\n",
    "del X_train_paa\n",
    "gc.collect()\n",
    "\n",
    "X_test_paa = list()\n",
    "for ts in tqdm(X_test):\n",
    "    ts = ts[~np.isnan(ts)].reshape(1,-1)\n",
    "    ts_paa = paa.fit_transform(ts).squeeze()\n",
    "    X_test_paa.append(ts_paa)\n",
    "      \n",
    "X_test=np.array(X_test_paa)\n",
    "del X_test_paa\n",
    "gc.collect()"
   ]
  },
  {
   "cell_type": "markdown",
   "id": "dd682a70-b585-45a7-a2f6-23d4751f09a2",
   "metadata": {},
   "source": [
    "## KNN"
   ]
  },
  {
   "cell_type": "code",
   "execution_count": 10,
   "id": "b3a41582-ce2e-4a79-ae12-730fd98c2f6c",
   "metadata": {
    "execution": {
     "iopub.execute_input": "2023-06-30T13:34:26.139650Z",
     "iopub.status.busy": "2023-06-30T13:34:26.139650Z",
     "iopub.status.idle": "2023-06-30T13:36:48.467365Z",
     "shell.execute_reply": "2023-06-30T13:36:48.466364Z",
     "shell.execute_reply.started": "2023-06-30T13:34:26.139650Z"
    },
    "tags": []
   },
   "outputs": [
    {
     "data": {
      "application/vnd.jupyter.widget-view+json": {
       "model_id": "b785c3bd16e24e0ab92bb49dd7a74ccd",
       "version_major": 2,
       "version_minor": 0
      },
      "text/plain": [
       "  0%|          | 0/624 [00:00<?, ?it/s]"
      ]
     },
     "metadata": {},
     "output_type": "display_data"
    },
    {
     "name": "stdout",
     "output_type": "stream",
     "text": [
      "Accuracy 0.1362179487179487\n",
      "F1-score [0.         0.09401709 0.         0.26102293 0.         0.\n",
      " 0.         0.        ]\n",
      "              precision    recall  f1-score   support\n",
      "\n",
      "           0       0.00      0.00      0.00        48\n",
      "           1       0.08      0.11      0.09        96\n",
      "           2       0.00      0.00      0.00        96\n",
      "           3       0.16      0.77      0.26        96\n",
      "           4       0.00      0.00      0.00        96\n",
      "           5       0.00      0.00      0.00        96\n",
      "           6       0.00      0.00      0.00        48\n",
      "           7       0.00      0.00      0.00        48\n",
      "\n",
      "    accuracy                           0.14       624\n",
      "   macro avg       0.03      0.11      0.04       624\n",
      "weighted avg       0.04      0.14      0.05       624\n",
      "\n"
     ]
    }
   ],
   "source": [
    "clf = KNeighborsClassifier(n_neighbors=12, weights='distance',p=2)\n",
    "clf.fit(X_train, y_train)\n",
    "\n",
    "y_pred = list()\n",
    "for ts in tqdm(X_test):\n",
    "    ts_pred = clf.predict(ts.reshape(1,-1))\n",
    "    y_pred.append(ts_pred)\n",
    "\n",
    "\n",
    "print('Accuracy %s' % accuracy_score(y_test, y_pred))\n",
    "print('F1-score %s' % f1_score(y_test, y_pred, average=None))\n",
    "print(classification_report(y_test, y_pred,zero_division=0))"
   ]
  },
  {
   "cell_type": "markdown",
   "id": "58a0d5b3-0b5d-42cb-8bb4-2cabb9e6f64a",
   "metadata": {},
   "source": [
    "## KNN DTW"
   ]
  },
  {
   "cell_type": "code",
   "execution_count": 5,
   "id": "f7c93bf0-452c-43e8-93ca-ee8c8e249bc8",
   "metadata": {
    "execution": {
     "iopub.execute_input": "2023-06-30T10:52:08.104697Z",
     "iopub.status.busy": "2023-06-30T10:52:08.103696Z",
     "iopub.status.idle": "2023-06-30T12:25:30.529927Z",
     "shell.execute_reply": "2023-06-30T12:25:30.529424Z",
     "shell.execute_reply.started": "2023-06-30T10:52:08.104697Z"
    },
    "scrolled": true,
    "tags": []
   },
   "outputs": [
    {
     "data": {
      "application/vnd.jupyter.widget-view+json": {
       "model_id": "114fcd32ebbe4c699349975b7ed9af49",
       "version_major": 2,
       "version_minor": 0
      },
      "text/plain": [
       "  0%|          | 0/624 [00:00<?, ?it/s]"
      ]
     },
     "metadata": {},
     "output_type": "display_data"
    },
    {
     "name": "stdout",
     "output_type": "stream",
     "text": [
      "Accuracy 0.34615384615384615\n",
      "F1-score [0.3649635  0.48920863 0.3255814  0.25136612 0.53932584 0.17647059\n",
      " 0.12195122 0.17073171]\n",
      "              precision    recall  f1-score   support\n",
      "\n",
      "           0       0.28      0.52      0.36        48\n",
      "           1       0.37      0.71      0.49        96\n",
      "           2       0.37      0.29      0.33        96\n",
      "           3       0.26      0.24      0.25        96\n",
      "           4       0.59      0.50      0.54        96\n",
      "           5       0.30      0.12      0.18        96\n",
      "           6       0.15      0.10      0.12        48\n",
      "           7       0.21      0.15      0.17        48\n",
      "\n",
      "    accuracy                           0.35       624\n",
      "   macro avg       0.32      0.33      0.30       624\n",
      "weighted avg       0.34      0.35      0.32       624\n",
      "\n"
     ]
    }
   ],
   "source": [
    "clf = KNeighborsClassifier(n_neighbors=12,weights=\"distance\", metric='dtw_sakoechiba',n_jobs=-1)\n",
    "clf.fit(X_train, y_train)\n",
    "\n",
    "\n",
    "y_pred = list()\n",
    "for ts in tqdm(X_test):\n",
    "    ts_pred = clf.predict(ts.reshape(1,-1))\n",
    "    y_pred.append(ts_pred)\n",
    "\n",
    "print('Accuracy %s' % accuracy_score(y_test, y_pred))\n",
    "print('F1-score %s' % f1_score(y_test, y_pred, average=None))\n",
    "print(classification_report(y_test, y_pred))"
   ]
  },
  {
   "cell_type": "raw",
   "id": "90c3faa3-9132-40de-820d-d8e15a87c958",
   "metadata": {},
   "source": [
    "Accuracy 0.34615384615384615\n",
    "F1-score [0.3649635  0.48920863 0.3255814  0.25136612 0.53932584 0.17647059\n",
    " 0.12195122 0.17073171]\n",
    "              precision    recall  f1-score   support\n",
    "\n",
    "           0       0.28      0.52      0.36        48\n",
    "           1       0.37      0.71      0.49        96\n",
    "           2       0.37      0.29      0.33        96\n",
    "           3       0.26      0.24      0.25        96\n",
    "           4       0.59      0.50      0.54        96\n",
    "           5       0.30      0.12      0.18        96\n",
    "           6       0.15      0.10      0.12        48\n",
    "           7       0.21      0.15      0.17        48\n",
    "\n",
    "    accuracy                           0.35       624\n",
    "   macro avg       0.32      0.33      0.30       624\n",
    "weighted avg       0.34      0.35      0.32       624"
   ]
  }
 ],
 "metadata": {
  "kernelspec": {
   "display_name": "Python 3 (ipykernel)",
   "language": "python",
   "name": "python3"
  },
  "language_info": {
   "codemirror_mode": {
    "name": "ipython",
    "version": 3
   },
   "file_extension": ".py",
   "mimetype": "text/x-python",
   "name": "python",
   "nbconvert_exporter": "python",
   "pygments_lexer": "ipython3",
   "version": "3.10.10"
  }
 },
 "nbformat": 4,
 "nbformat_minor": 5
}
