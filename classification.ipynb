{
 "cells": [
  {
   "cell_type": "code",
   "execution_count": 2,
   "id": "771e89d1-9494-42fc-8e86-a2f54912014d",
   "metadata": {
    "execution": {
     "iopub.execute_input": "2023-07-01T08:21:10.737340Z",
     "iopub.status.busy": "2023-07-01T08:21:10.737340Z",
     "iopub.status.idle": "2023-07-01T08:21:12.022775Z",
     "shell.execute_reply": "2023-07-01T08:21:12.022775Z",
     "shell.execute_reply.started": "2023-07-01T08:21:10.737340Z"
    },
    "tags": []
   },
   "outputs": [],
   "source": [
    "import numpy as np\n",
    "import pandas as pd\n",
    "import matplotlib.pyplot as plt\n",
    "from IPython.display import Audio \n",
    "from collections import defaultdict\n",
    "\n",
    "from sklearn.preprocessing import MinMaxScaler\n",
    "\n",
    "from tslearn.piecewise import PiecewiseAggregateApproximation\n",
    "from tslearn.piecewise import SymbolicAggregateApproximation\n",
    "from tslearn.piecewise import OneD_SymbolicAggregateApproximation\n",
    "\n",
    "from matrixprofile import *\n",
    "\n",
    "from sklearn.model_selection import train_test_split, cross_val_score \n",
    "\n",
    "from tslearn.preprocessing import TimeSeriesScalerMinMax\n",
    "\n",
    "from sklearn.metrics import accuracy_score, f1_score, classification_report\n",
    "from sklearn.metrics import roc_curve, auc, roc_auc_score\n",
    "\n",
    "from pyts.transformation import ShapeletTransform"
   ]
  },
  {
   "cell_type": "code",
   "execution_count": 4,
   "id": "74652a31-1693-4eb2-832c-5df873c573ca",
   "metadata": {
    "execution": {
     "iopub.execute_input": "2023-07-01T08:21:39.524318Z",
     "iopub.status.busy": "2023-07-01T08:21:39.524318Z",
     "iopub.status.idle": "2023-07-01T08:21:39.674391Z",
     "shell.execute_reply": "2023-07-01T08:21:39.674391Z",
     "shell.execute_reply.started": "2023-07-01T08:21:39.524318Z"
    },
    "tags": []
   },
   "outputs": [
    {
     "name": "stdout",
     "output_type": "stream",
     "text": [
      "(1828, 284) (1828, 284)\n"
     ]
    }
   ],
   "source": [
    "df_train = pd.read_csv(\"DATASETS/NumericalSummaryOnly/Ravdess_TRAIN_transformed.csv\")\n",
    "df_test = pd.read_csv(\"DATASETS/NumericalSummaryOnly/Ravdess_TRAIN_transformed.csv\")\n",
    "\n",
    "print(df_train.shape, df_test.shape)"
   ]
  },
  {
   "cell_type": "code",
   "execution_count": 7,
   "id": "e7c17aaa-77bc-4158-b033-7b2d05460f5d",
   "metadata": {
    "execution": {
     "iopub.execute_input": "2023-07-01T08:22:13.817412Z",
     "iopub.status.busy": "2023-07-01T08:22:13.817412Z",
     "iopub.status.idle": "2023-07-01T08:22:13.825863Z",
     "shell.execute_reply": "2023-07-01T08:22:13.825863Z",
     "shell.execute_reply.started": "2023-07-01T08:22:13.817412Z"
    },
    "tags": []
   },
   "outputs": [],
   "source": [
    "#remapping\n",
    "emotion_demapper = {1:\"neutral\", 2:\"calm\", 3:\"happy\", 4:\"sad\", 5:\"angry\", 6:\"fearful\", 7:\"disgust\", 8:\"surprised\"}\n",
    "df_train[\"emotion\"] = df_train[\"emotion\"].replace(emotion_demapper)\n",
    "df_test[\"emotion\"] = df_test[\"emotion\"].replace(emotion_demapper)\n",
    "\n",
    "emotion_mapper = {\"neutral\":0, \"calm\":1, \"happy\":2, \"sad\":3, \"angry\":4, \"fearful\":5, \"disgust\":6, \"surprised\":7}\n",
    "df_train[\"emotion\"] = df_train[\"emotion\"].replace(emotion_mapper)\n",
    "df_test[\"emotion\"] = df_test[\"emotion\"].replace(emotion_mapper)"
   ]
  },
  {
   "cell_type": "code",
   "execution_count": 11,
   "id": "bb6f2fa8-3a84-4c5a-8fa6-357ab47412c1",
   "metadata": {
    "execution": {
     "iopub.execute_input": "2023-07-01T08:23:52.806104Z",
     "iopub.status.busy": "2023-07-01T08:23:52.806104Z",
     "iopub.status.idle": "2023-07-01T08:23:52.814493Z",
     "shell.execute_reply": "2023-07-01T08:23:52.814493Z",
     "shell.execute_reply.started": "2023-07-01T08:23:52.806104Z"
    },
    "tags": []
   },
   "outputs": [],
   "source": [
    "X_train, y_train = df_train.drop([\"emotion\", \"vocal_channel\", \"emotional_intensity\", \"statement\", \"repetition\", \"actor\", \"sex\"], axis=1), df_train[[\"emotion\"]].values.flatten()\n",
    "X_test, y_test = df_test.drop([\"emotion\", \"vocal_channel\", \"emotional_intensity\", \"statement\", \"repetition\", \"actor\", \"sex\"], axis=1), df_test[[\"emotion\"]].values.flatten()"
   ]
  },
  {
   "cell_type": "code",
   "execution_count": 17,
   "id": "3e9cf5d6-3001-4590-af4d-be4d3bc115a2",
   "metadata": {
    "execution": {
     "iopub.execute_input": "2023-07-01T08:25:05.398136Z",
     "iopub.status.busy": "2023-07-01T08:25:05.397136Z",
     "iopub.status.idle": "2023-07-01T08:25:06.197395Z",
     "shell.execute_reply": "2023-07-01T08:25:06.197395Z",
     "shell.execute_reply.started": "2023-07-01T08:25:05.398136Z"
    },
    "tags": []
   },
   "outputs": [
    {
     "name": "stdout",
     "output_type": "stream",
     "text": [
      "Accuracy 0.6684901531728665\n",
      "F1-score [0.44067797 0.73021002 0.67978533 0.57664234 0.7919708  0.67924528\n",
      " 0.66192171 0.63283582]\n",
      "              precision    recall  f1-score   support\n",
      "\n",
      "           0       0.54      0.37      0.44       140\n",
      "           1       0.67      0.81      0.73       280\n",
      "           2       0.68      0.68      0.68       280\n",
      "           3       0.59      0.56      0.58       280\n",
      "           4       0.81      0.78      0.79       280\n",
      "           5       0.72      0.64      0.68       280\n",
      "           6       0.68      0.65      0.66       144\n",
      "           7       0.55      0.74      0.63       144\n",
      "\n",
      "    accuracy                           0.67      1828\n",
      "   macro avg       0.66      0.65      0.65      1828\n",
      "weighted avg       0.67      0.67      0.67      1828\n",
      "\n"
     ]
    }
   ],
   "source": [
    "from sklearn.neural_network import MLPClassifier\n",
    "\n",
    "clf = MLPClassifier(solver=\"sgd\", validation_fraction=0.35, early_stopping=True,max_iter=7000)\n",
    "\n",
    "clf.fit(X_train, y_train)\n",
    "\n",
    "y_pred = clf.predict(X_test)\n",
    "\n",
    "print('Accuracy %s' % accuracy_score(y_test, y_pred))\n",
    "print('F1-score %s' % f1_score(y_test, y_pred, average=None))\n",
    "print(classification_report(y_test, y_pred))"
   ]
  }
 ],
 "metadata": {
  "kernelspec": {
   "display_name": "Python 3 (ipykernel)",
   "language": "python",
   "name": "python3"
  },
  "language_info": {
   "codemirror_mode": {
    "name": "ipython",
    "version": 3
   },
   "file_extension": ".py",
   "mimetype": "text/x-python",
   "name": "python",
   "nbconvert_exporter": "python",
   "pygments_lexer": "ipython3",
   "version": "3.10.10"
  }
 },
 "nbformat": 4,
 "nbformat_minor": 5
}
