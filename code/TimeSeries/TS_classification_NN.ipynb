{
 "cells": [
  {
   "cell_type": "code",
   "execution_count": 10,
   "id": "7a9cc875-e4b9-4d05-b1b0-33a1ad7a5586",
   "metadata": {
    "execution": {
     "iopub.execute_input": "2023-07-08T14:09:26.415946Z",
     "iopub.status.busy": "2023-07-08T14:09:26.415946Z",
     "iopub.status.idle": "2023-07-08T14:09:26.425213Z",
     "shell.execute_reply": "2023-07-08T14:09:26.424955Z",
     "shell.execute_reply.started": "2023-07-08T14:09:26.415946Z"
    },
    "tags": []
   },
   "outputs": [],
   "source": [
    "import numpy as np\n",
    "import pandas as pd\n",
    "import matplotlib.pyplot as plt\n",
    "\n",
    "from sklearn.model_selection import train_test_split, cross_val_score \n",
    "\n",
    "from tslearn.piecewise import SymbolicAggregateApproximation\n",
    "\n",
    "from sklearn.model_selection import train_test_split, cross_val_score \n",
    "from sklearn.metrics import accuracy_score, f1_score, classification_report\n",
    "from pyts.classification import KNeighborsClassifier\n",
    "import gc\n",
    "\n",
    "from tslearn.piecewise import PiecewiseAggregateApproximation\n",
    "from IPython.display import Audio\n",
    "from tqdm.notebook import tqdm\n",
    "import warnings\n",
    "warnings.filterwarnings('ignore')"
   ]
  },
  {
   "cell_type": "code",
   "execution_count": 11,
   "id": "4dba9971-9d15-486f-aba8-ce19d2f06098",
   "metadata": {
    "execution": {
     "iopub.execute_input": "2023-07-08T14:09:30.922266Z",
     "iopub.status.busy": "2023-07-08T14:09:30.922266Z",
     "iopub.status.idle": "2023-07-08T14:09:31.761719Z",
     "shell.execute_reply": "2023-07-08T14:09:31.761719Z",
     "shell.execute_reply.started": "2023-07-08T14:09:30.922266Z"
    },
    "tags": []
   },
   "outputs": [
    {
     "name": "stdout",
     "output_type": "stream",
     "text": [
      "(1828, 15975) (624, 15975)\n"
     ]
    }
   ],
   "source": [
    "X_train = np.load(\"../DATASETS/TimeSeriesTrimmedDS/X_train15.npy\")\n",
    "X_test = np.load(\"../DATASETS/TimeSeriesTrimmedDS/X_test15.npy\")\n",
    "y_train = pd.read_csv('../DATASETS/TimeSeriesTrimmedDS/y_train.csv')\n",
    "y_test = pd.read_csv('../DATASETS/TimeSeriesTrimmedDS/y_test.csv')\n",
    "\n",
    "np.nan_to_num(X_train,copy=False)\n",
    "np.nan_to_num(X_test,copy=False)\n",
    "print(X_train.shape, X_test.shape)"
   ]
  },
  {
   "cell_type": "code",
   "execution_count": 12,
   "id": "db71d5c1-6892-45d3-9cdd-f75b0883c474",
   "metadata": {
    "execution": {
     "iopub.execute_input": "2023-07-08T14:09:32.425718Z",
     "iopub.status.busy": "2023-07-08T14:09:32.425718Z",
     "iopub.status.idle": "2023-07-08T14:09:32.434334Z",
     "shell.execute_reply": "2023-07-08T14:09:32.434334Z",
     "shell.execute_reply.started": "2023-07-08T14:09:32.425718Z"
    },
    "tags": []
   },
   "outputs": [],
   "source": [
    "emotion_mapper = {\"neutral\":0, \"calm\":1, \"happy\":2, \"sad\":3, \"angry\":4, \"fearful\":5, \"disgust\":6, \"surprised\":7}\n",
    "y_train= y_train[\"emotion\"].replace(emotion_mapper)\n",
    "y_test=y_test[\"emotion\"].replace(emotion_mapper)"
   ]
  },
  {
   "cell_type": "markdown",
   "id": "c8d88043-4caf-4776-8cb0-d4c5a1bd164d",
   "metadata": {
    "pycharm": {
     "name": "#%% md\n"
    }
   },
   "source": [
    "# MINI-ROCKET"
   ]
  },
  {
   "cell_type": "code",
   "execution_count": 13,
   "id": "fe86b833-69c9-41ae-b352-be046569cd76",
   "metadata": {
    "execution": {
     "iopub.execute_input": "2023-07-08T14:09:33.987711Z",
     "iopub.status.busy": "2023-07-08T14:09:33.987711Z",
     "iopub.status.idle": "2023-07-08T14:09:33.997068Z",
     "shell.execute_reply": "2023-07-08T14:09:33.997068Z",
     "shell.execute_reply.started": "2023-07-08T14:09:33.987711Z"
    },
    "pycharm": {
     "name": "#%%\n"
    }
   },
   "outputs": [],
   "source": [
    "from sktime.classification.kernel_based import RocketClassifier"
   ]
  },
  {
   "cell_type": "code",
   "execution_count": 14,
   "id": "9657ee95-43be-4424-8d00-f5bd293afd4c",
   "metadata": {
    "execution": {
     "iopub.execute_input": "2023-07-08T14:09:37.204006Z",
     "iopub.status.busy": "2023-07-08T14:09:37.204006Z",
     "iopub.status.idle": "2023-07-08T14:19:16.905493Z",
     "shell.execute_reply": "2023-07-08T14:19:16.905493Z",
     "shell.execute_reply.started": "2023-07-08T14:09:37.204006Z"
    },
    "pycharm": {
     "name": "#%%\n"
    },
    "scrolled": true
   },
   "outputs": [
    {
     "name": "stdout",
     "output_type": "stream",
     "text": [
      "              precision    recall  f1-score   support\n",
      "\n",
      "           0       0.63      0.56      0.59        48\n",
      "           1       0.78      0.52      0.62        96\n",
      "           2       0.55      0.60      0.57        96\n",
      "           3       0.50      0.55      0.52        96\n",
      "           4       0.55      0.68      0.60        96\n",
      "           5       0.44      0.33      0.38        96\n",
      "           6       0.43      0.75      0.55        48\n",
      "           7       0.60      0.38      0.46        48\n",
      "\n",
      "    accuracy                           0.54       624\n",
      "   macro avg       0.56      0.55      0.54       624\n",
      "weighted avg       0.56      0.54      0.54       624\n",
      "\n"
     ]
    }
   ],
   "source": [
    "clf = RocketClassifier(rocket_transform='minirocket', n_jobs=-1) \n",
    "clf.fit(X_train, y_train) \n",
    "y_pred = clf.predict(X_test)\n",
    "print(classification_report(y_test, y_pred))"
   ]
  },
  {
   "cell_type": "raw",
   "id": "a3acc0aa-bf0d-4362-97fc-6792d1617f92",
   "metadata": {},
   "source": [
    "              precision    recall  f1-score   support\n",
    "\n",
    "           0       0.60      0.58      0.59        48\n",
    "           1       0.78      0.54      0.64        96\n",
    "           2       0.56      0.61      0.59        96\n",
    "           3       0.50      0.57      0.53        96\n",
    "           4       0.58      0.73      0.65        96\n",
    "           5       0.49      0.36      0.42        96\n",
    "           6       0.47      0.73      0.57        48\n",
    "           7       0.76      0.46      0.57        48\n",
    "\n",
    "    accuracy                           0.57       624\n",
    "   macro avg       0.59      0.57      0.57       624\n",
    "weighted avg       0.59      0.57      0.57       624"
   ]
  },
  {
   "cell_type": "code",
   "execution_count": null,
   "id": "2de4183a-19b7-4fa2-b7d1-acdf3f7c32ef",
   "metadata": {},
   "outputs": [],
   "source": [
    "y_pred = clf.predict(X_train)\n",
    "print(classification_report(y_train, y_pred))"
   ]
  }
 ],
 "metadata": {
  "kernelspec": {
   "display_name": "Python 3 (ipykernel)",
   "language": "python",
   "name": "python3"
  },
  "language_info": {
   "codemirror_mode": {
    "name": "ipython",
    "version": 3
   },
   "file_extension": ".py",
   "mimetype": "text/x-python",
   "name": "python",
   "nbconvert_exporter": "python",
   "pygments_lexer": "ipython3",
   "version": "3.10.10"
  }
 },
 "nbformat": 4,
 "nbformat_minor": 5
}
